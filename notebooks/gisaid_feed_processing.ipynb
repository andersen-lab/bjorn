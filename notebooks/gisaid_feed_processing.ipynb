{
 "cells": [
  {
   "cell_type": "code",
   "execution_count": 1,
   "metadata": {},
   "outputs": [
    {
     "name": "stdout",
     "output_type": "stream",
     "text": [
      "Loading JSON...\n",
      "Converting to dict...\n",
      "Converting to FASTA...\n",
      "FASTA output generated and saved in /valhalla/gisaid/test.fasta\n"
     ]
    }
   ],
   "source": [
    "# JSON 2 FASTA\n",
    "import re\n",
    "import json\n",
    "import gzip\n",
    "from Bio import SeqIO\n",
    "\n",
    "in_fp = '/valhalla/al_tmp/provision.json'\n",
    "out_fp = '/valhalla/gisaid/test.fasta'\n",
    "regex = re.compile('[^a-zA-Z]')\n",
    "print(f\"Loading JSON...\")\n",
    "data = [json.loads(line) for line in open(in_fp, 'r')]\n",
    "print(f\"Converting to dict...\")\n",
    "seqs_dict = {sample['covv_virus_name'].replace('hCoV-19/', '').replace(' ', ''): \n",
    "             regex.sub('', sample['sequence'].replace('\\n', '')) for sample in data}\n",
    "print(f\"Converting to FASTA...\")\n",
    "with open(out_fp, 'w') as f:\n",
    "    f.write(''.join(f'>{idx}\\n{seq}\\n' for idx, seq in seqs_dict.items()))\n",
    "print(f\"FASTA output generated and saved in {out_fp}\")"
   ]
  },
  {
   "cell_type": "markdown",
   "metadata": {},
   "source": [
    "## Location normalization"
   ]
  },
  {
   "cell_type": "code",
   "execution_count": 2,
   "metadata": {},
   "outputs": [],
   "source": [
    "import pandas as pd\n",
    "import geopandas as gpd\n",
    "import visualize as bv\n",
    "import data as bd"
   ]
  },
  {
   "cell_type": "code",
   "execution_count": 3,
   "metadata": {},
   "outputs": [],
   "source": [
    "metacols = ['covv_virus_name', 'covsurver_prot_mutations', 'covv_location',\n",
    "             'covv_lineage', 'covv_collection_date', 'covv_accession_id',\n",
    "             'pangolin_lineages_version', 'covv_clade', 'covv_subm_date']\n",
    "df = pd.read_json('/valhalla/gisaid/feed_2021-02-14.json', lines=True)"
   ]
  },
  {
   "cell_type": "code",
   "execution_count": 10,
   "metadata": {},
   "outputs": [],
   "source": [
    "COLS = [\n",
    "'covv_virus_name', \n",
    "'covv_location', \n",
    "'covv_subm_date',\n",
    "'covv_clade',\n",
    "'covv_lineage',\n",
    "'pangolin_lineages_version',\n",
    "'covv_accession_id'\n",
    "        ]"
   ]
  },
  {
   "cell_type": "code",
   "execution_count": 13,
   "metadata": {},
   "outputs": [
    {
     "data": {
      "text/plain": [
       "['covv_virus_name',\n",
       " 'covv_location',\n",
       " 'covv_subm_date',\n",
       " 'covv_clade',\n",
       " 'covv_lineage',\n",
       " 'pangolin_lineages_version',\n",
       " 'covv_accession_id']"
      ]
     },
     "execution_count": 13,
     "metadata": {},
     "output_type": "execute_result"
    }
   ],
   "source": [
    "COLS"
   ]
  },
  {
   "cell_type": "code",
   "execution_count": 14,
   "metadata": {},
   "outputs": [
    {
     "data": {
      "text/plain": [
       "Index(['strain', 'covsurver_prot_mutations', 'location', 'pango_lineage',\n",
       "       'covv_collection_date', 'accession_id', 'sequence', 'pango_version',\n",
       "       'clade', 'date_submitted'],\n",
       "      dtype='object')"
      ]
     },
     "execution_count": 14,
     "metadata": {},
     "output_type": "execute_result"
    }
   ],
   "source": [
    "df.columns"
   ]
  },
  {
   "cell_type": "code",
   "execution_count": 15,
   "metadata": {},
   "outputs": [],
   "source": [
    "df = df[COLS].copy()"
   ]
  },
  {
   "cell_type": "code",
   "execution_count": 16,
   "metadata": {},
   "outputs": [
    {
     "data": {
      "text/plain": [
       "Index(['strain', 'covsurver_prot_mutations', 'location', 'pango_lineage',\n",
       "       'covv_collection_date', 'accession_id', 'sequence', 'pango_version',\n",
       "       'clade', 'date_submitted'],\n",
       "      dtype='object')"
      ]
     },
     "execution_count": 16,
     "metadata": {},
     "output_type": "execute_result"
    }
   ],
   "source": [
    "df.columns"
   ]
  },
  {
   "cell_type": "code",
   "execution_count": 5,
   "metadata": {},
   "outputs": [
    {
     "data": {
      "text/plain": [
       "0         EPI_ISL_426900\n",
       "1         EPI_ISL_426901\n",
       "2         EPI_ISL_426902\n",
       "3         EPI_ISL_426903\n",
       "4         EPI_ISL_426904\n",
       "               ...      \n",
       "527604    EPI_ISL_984623\n",
       "527605    EPI_ISL_984624\n",
       "527606    EPI_ISL_984625\n",
       "527607    EPI_ISL_984626\n",
       "527608    EPI_ISL_984627\n",
       "Name: covv_accession_id, Length: 527609, dtype: object"
      ]
     },
     "execution_count": 5,
     "metadata": {},
     "output_type": "execute_result"
    }
   ],
   "source": [
    "df['accession_id']"
   ]
  },
  {
   "cell_type": "code",
   "execution_count": 17,
   "metadata": {},
   "outputs": [
    {
     "data": {
      "text/plain": [
       "(527609,)"
      ]
     },
     "execution_count": 17,
     "metadata": {},
     "output_type": "execute_result"
    }
   ],
   "source": [
    "df['accession_id'].unique().shape"
   ]
  },
  {
   "cell_type": "code",
   "execution_count": 9,
   "metadata": {},
   "outputs": [],
   "source": [
    "df.rename(columns={\n",
    "                   'covv_virus_name': 'strain', \n",
    "                   'covv_location': 'location', \n",
    "                   'covv_subm_date': 'date_submitted',\n",
    "                   'covv_clade': 'clade',\n",
    "                   'covv_lineage': 'pango_lineage',\n",
    "                   'pangolin_lineages_version': 'pango_version',\n",
    "                   'covv_accession_id': 'accession_id'\n",
    "                  }, inplace=True)"
   ]
  },
  {
   "cell_type": "code",
   "execution_count": 18,
   "metadata": {},
   "outputs": [],
   "source": [
    "gadm = gpd.read_file('/home/al/data/geojsons/gadm36.shp')"
   ]
  },
  {
   "cell_type": "code",
   "execution_count": 19,
   "metadata": {},
   "outputs": [
    {
     "data": {
      "text/plain": [
       "Index(['UID', 'GID_0', 'ID_0', 'NAME_0', 'GID_1', 'ID_1', 'NAME_1',\n",
       "       'VARNAME_1', 'NL_NAME_1', 'HASC_1', 'CC_1', 'TYPE_1', 'ENGTYPE_1',\n",
       "       'VALIDFR_1', 'VALIDTO_1', 'REMARKS_1', 'GID_2', 'ID_2', 'NAME_2',\n",
       "       'VARNAME_2', 'NL_NAME_2', 'HASC_2', 'CC_2', 'TYPE_2', 'ENGTYPE_2',\n",
       "       'VALIDFR_2', 'VALIDTO_2', 'REMARKS_2', 'GID_3', 'ID_3', 'NAME_3',\n",
       "       'VARNAME_3', 'NL_NAME_3', 'HASC_3', 'CC_3', 'TYPE_3', 'ENGTYPE_3',\n",
       "       'VALIDFR_3', 'VALIDTO_3', 'REMARKS_3', 'GID_4', 'ID_4', 'NAME_4',\n",
       "       'VARNAME_4', 'CC_4', 'TYPE_4', 'ENGTYPE_4', 'VALIDFR_4', 'VALIDTO_4',\n",
       "       'REMARKS_4', 'GID_5', 'ID_5', 'NAME_5', 'CC_5', 'TYPE_5', 'ENGTYPE_5',\n",
       "       'REGION', 'VARREGION', 'zone', 'geometry'],\n",
       "      dtype='object')"
      ]
     },
     "execution_count": 19,
     "metadata": {},
     "output_type": "execute_result"
    }
   ],
   "source": [
    "gadm.columns"
   ]
  },
  {
   "cell_type": "code",
   "execution_count": 20,
   "metadata": {},
   "outputs": [],
   "source": [
    "gadmcols = [f'NAME_{i}' for i in range(5)]\n",
    "gadm_locs = gadm[gadmcols]"
   ]
  },
  {
   "cell_type": "code",
   "execution_count": 21,
   "metadata": {},
   "outputs": [],
   "source": [
    "res = pd.DataFrame(df['location'].str.split('/').tolist(), \n",
    "             columns=['region',\n",
    "                    'country', \n",
    "                    'division', \n",
    "                    'location', \n",
    "                    'city', \n",
    "                    'town'])\n",
    "res['country'] = res['country'].str.strip()\n",
    "res['division'] = res['division'].str.strip()\n",
    "res['location'] = res['location'].str.strip()"
   ]
  },
  {
   "cell_type": "code",
   "execution_count": 22,
   "metadata": {},
   "outputs": [
    {
     "data": {
      "text/html": [
       "<div>\n",
       "<style scoped>\n",
       "    .dataframe tbody tr th:only-of-type {\n",
       "        vertical-align: middle;\n",
       "    }\n",
       "\n",
       "    .dataframe tbody tr th {\n",
       "        vertical-align: top;\n",
       "    }\n",
       "\n",
       "    .dataframe thead th {\n",
       "        text-align: right;\n",
       "    }\n",
       "</style>\n",
       "<table border=\"1\" class=\"dataframe\">\n",
       "  <thead>\n",
       "    <tr style=\"text-align: right;\">\n",
       "      <th></th>\n",
       "      <th>country</th>\n",
       "      <th>division</th>\n",
       "      <th>location</th>\n",
       "    </tr>\n",
       "  </thead>\n",
       "  <tbody>\n",
       "    <tr>\n",
       "      <th>12</th>\n",
       "      <td>Australia</td>\n",
       "      <td>New South Wales</td>\n",
       "      <td>Sydney</td>\n",
       "    </tr>\n",
       "    <tr>\n",
       "      <th>58</th>\n",
       "      <td>Netherlands</td>\n",
       "      <td>Noord Holland</td>\n",
       "      <td>Diemen</td>\n",
       "    </tr>\n",
       "    <tr>\n",
       "      <th>128</th>\n",
       "      <td>Australia</td>\n",
       "      <td>New South Wales</td>\n",
       "      <td>Sydney</td>\n",
       "    </tr>\n",
       "    <tr>\n",
       "      <th>131</th>\n",
       "      <td>Australia</td>\n",
       "      <td>New South Wales</td>\n",
       "      <td>Sydney</td>\n",
       "    </tr>\n",
       "    <tr>\n",
       "      <th>134</th>\n",
       "      <td>Australia</td>\n",
       "      <td>New South Wales</td>\n",
       "      <td>Sydney</td>\n",
       "    </tr>\n",
       "    <tr>\n",
       "      <th>...</th>\n",
       "      <td>...</td>\n",
       "      <td>...</td>\n",
       "      <td>...</td>\n",
       "    </tr>\n",
       "    <tr>\n",
       "      <th>527584</th>\n",
       "      <td>USA</td>\n",
       "      <td>California</td>\n",
       "      <td>San Joaquin County</td>\n",
       "    </tr>\n",
       "    <tr>\n",
       "      <th>527585</th>\n",
       "      <td>USA</td>\n",
       "      <td>California</td>\n",
       "      <td>San Joaquin County</td>\n",
       "    </tr>\n",
       "    <tr>\n",
       "      <th>527600</th>\n",
       "      <td>Brazil</td>\n",
       "      <td>Amazonas</td>\n",
       "      <td>Manaus</td>\n",
       "    </tr>\n",
       "    <tr>\n",
       "      <th>527601</th>\n",
       "      <td>Brazil</td>\n",
       "      <td>Amazonas</td>\n",
       "      <td>Manaus</td>\n",
       "    </tr>\n",
       "    <tr>\n",
       "      <th>527602</th>\n",
       "      <td>Brazil</td>\n",
       "      <td>Amazonas</td>\n",
       "      <td>Nova Holinda do Norte</td>\n",
       "    </tr>\n",
       "  </tbody>\n",
       "</table>\n",
       "<p>86368 rows × 3 columns</p>\n",
       "</div>"
      ],
      "text/plain": [
       "            country         division               location\n",
       "12        Australia  New South Wales                 Sydney\n",
       "58      Netherlands    Noord Holland                 Diemen\n",
       "128       Australia  New South Wales                 Sydney\n",
       "131       Australia  New South Wales                 Sydney\n",
       "134       Australia  New South Wales                 Sydney\n",
       "...             ...              ...                    ...\n",
       "527584          USA       California     San Joaquin County\n",
       "527585          USA       California     San Joaquin County\n",
       "527600       Brazil         Amazonas                 Manaus\n",
       "527601       Brazil         Amazonas                 Manaus\n",
       "527602       Brazil         Amazonas  Nova Holinda do Norte\n",
       "\n",
       "[86368 rows x 3 columns]"
      ]
     },
     "execution_count": 22,
     "metadata": {},
     "output_type": "execute_result"
    }
   ],
   "source": [
    "res.loc[~res['location'].isna()][['country', 'division', 'location']]"
   ]
  },
  {
   "cell_type": "code",
   "execution_count": 65,
   "metadata": {},
   "outputs": [],
   "source": [
    "# res['country'].value_counts().iloc[:40]"
   ]
  },
  {
   "cell_type": "code",
   "execution_count": null,
   "metadata": {},
   "outputs": [],
   "source": [
    "res['country_normed'] = res['country'].copy()\n",
    "res['country_normed'].fillna('None', inplace=True)\n",
    "res.loc[res['country_normed']=='USA', 'country_normed'] = 'United States'\n",
    "res.loc[res['country_normed'].str.contains('Congo'), 'country_normed'] = 'Republic of Congo'\n",
    "res.loc[res['country_normed'].str.contains('Cote dIvoire'), 'country_normed'] = \"Côte d'Ivoire\"\n",
    "res.loc[res['country_normed'].str.contains('North Macedonia'), 'country_normed'] = \"Macedonia\"\n",
    "res.loc[res['country_normed'].str.contains('Curacao'), 'country_normed'] = \"Curaçao\"\n",
    "res.loc[res['country_normed'].str.contains('Saint Martin'), 'country_normed'] = \"Saint-Martin\"\n",
    "res.loc[res['country_normed'].str.contains('Trinidad'), 'country_normed'] = 'Trinidad and Tobago'\n",
    "res.loc[res['country_normed'].str.contains('Czech republic'), 'country_normed'] = 'Czech Republic'\n",
    "res.loc[res['country_normed'].str.contains('St Eustatius'), 'country_normed'] = 'Netherlands'\n",
    "res.loc[res['country_normed'].str.contains('Saint Barthelemy'), 'country_normed'] = 'Saint-Barthélemy'\n",
    "res.loc[res['country_normed'].str.contains('Palestine'), 'country_normed'] = \"Palestina\"\n",
    "res.loc[res['country_normed'].str.contains(\"Germany /\"), 'country_normed'] = \"Germany\"\n",
    "res.loc[res['country_normed'].str.contains(\"France /Nouvelle-Aquitaine\"), 'division'] = \"Nouvelle-Aquitaine\"\n",
    "res.loc[res['country_normed']==\"France /Nouvelle-Aquitaine\", 'country_normed'] = \"France\"\n",
    "res.loc[res['country_normed'].str.contains(\"France /Nouvelle-Aquitaine/ Limoges\"), 'division'] = \"Nouvelle-Aquitaine\"\n",
    "res.loc[res['country_normed'].str.contains(\"France /Nouvelle-Aquitaine/ Limoges\"), 'location'] = \"Limoges\"\n",
    "res.loc[res['country_normed']==\"France /Nouvelle-Aquitaine/ Limoges\", 'country_normed'] = \"France\"\n",
    "res.loc[res['country_normed']==\"Kenya /\", 'country_normed'] = \"Kenya\"\n",
    "res.loc[res['country_normed']==\"Switzerland/ Schwyz\", 'division'] = \"Schwyz\"\n",
    "res.loc[res['country_normed']==\"Switzerland/ Schwyz\", 'country_normed'] = \"Switzerland\"\n",
    "res.loc[res['country_normed']==\"USA /Wisconsin\", 'division'] = \"Wisconsin\"\n",
    "res.loc[res['country_normed']==\"USA /Wisconsin\", 'country_normed'] = \"United States\"\n",
    "res.loc[res['country_normed']==\"Jonavos apskritis\", 'country_normed'] = \"Lithuania\"\n",
    "res.loc[res['country_normed']==\"Thailand /Singburi\", 'division'] = \"Singburi\"\n",
    "res.loc[res['country_normed']==\"Thailand /Singburi\", 'country_normed'] = \"Thailand\"\n",
    "res.loc[res['country_normed']==\"Norway /\", 'country_normed'] = \"Norway\"\n",
    "res.loc[res['country_normed']==\"Morocoo\", 'country_normed'] = \"Morocco\""
   ]
  },
  {
   "cell_type": "code",
   "execution_count": 23,
   "metadata": {},
   "outputs": [
    {
     "ename": "NameError",
     "evalue": "name 'gadm_0' is not defined",
     "output_type": "error",
     "traceback": [
      "\u001b[0;31m---------------------------------------------------------------------------\u001b[0m",
      "\u001b[0;31mNameError\u001b[0m                                 Traceback (most recent call last)",
      "\u001b[0;32m<ipython-input-23-492e75ccff19>\u001b[0m in \u001b[0;36m<module>\u001b[0;34m\u001b[0m\n\u001b[0;32m----> 1\u001b[0;31m \u001b[0mprint\u001b[0m\u001b[0;34m(\u001b[0m\u001b[0msorted\u001b[0m\u001b[0;34m(\u001b[0m\u001b[0mgadm_0\u001b[0m\u001b[0;34m)\u001b[0m\u001b[0;34m)\u001b[0m\u001b[0;34m\u001b[0m\u001b[0;34m\u001b[0m\u001b[0m\n\u001b[0m",
      "\u001b[0;31mNameError\u001b[0m: name 'gadm_0' is not defined"
     ]
    }
   ],
   "source": [
    "# print(sorted(gadm_0))"
   ]
  },
  {
   "cell_type": "code",
   "execution_count": 26,
   "metadata": {},
   "outputs": [
    {
     "name": "stdout",
     "output_type": "stream",
     "text": [
      "152\n",
      "256\n",
      "Number of countries captured in GADM: 150\n",
      "Countries in GISAID not captured in GADM: {'Caribbean', 'Crimea'}\n"
     ]
    }
   ],
   "source": [
    "gisaid_0 = set(res['country_normed'].unique())\n",
    "gadm_0 = set(gadm_locs['NAME_0'].unique())\n",
    "print(len(gisaid_0))\n",
    "print(len(gadm_0))\n",
    "print(f'Number of countries captured in GADM: {len(gisaid_0 & gadm_0)}')\n",
    "print(f'Countries in GISAID not captured in GADM: {gisaid_0 - gadm_0}')\n",
    "#TODO: fix Morocoo"
   ]
  },
  {
   "cell_type": "code",
   "execution_count": 27,
   "metadata": {},
   "outputs": [
    {
     "name": "stdout",
     "output_type": "stream",
     "text": [
      "Number of samples missing country-level geo-information: 19\n"
     ]
    }
   ],
   "source": [
    "missing_countries = ['Crimea', 'Caribbean']\n",
    "samples_missing_country = res[res['country'].isin(missing_countries)]\n",
    "print(f'Number of samples missing country-level geo-information: {samples_missing_country.shape[0]}')"
   ]
  },
  {
   "cell_type": "code",
   "execution_count": 28,
   "metadata": {},
   "outputs": [],
   "source": [
    "res.loc[res['division'].isna(), 'division'] = 'None'\n",
    "res['division_normed'] = res['division'].copy()"
   ]
  },
  {
   "cell_type": "code",
   "execution_count": 62,
   "metadata": {},
   "outputs": [],
   "source": [
    "# print(sorted(gadm_1))"
   ]
  },
  {
   "cell_type": "code",
   "execution_count": 63,
   "metadata": {},
   "outputs": [
    {
     "name": "stdout",
     "output_type": "stream",
     "text": [
      "2287\n",
      "3487\n",
      "701\n"
     ]
    }
   ],
   "source": [
    "# TODO: Spain, rest of EU!\n",
    "country = ''\n",
    "if country:\n",
    "    gisaid_1 = set(res[res['country']==country]['division_normed'].unique())\n",
    "else:\n",
    "    gisaid_1 = set(res['division_normed'].unique())\n",
    "gadm_1 = set(gadm_locs[~gadm_locs['NAME_1'].isna()]['NAME_1'].unique())\n",
    "print(len(gisaid_1))\n",
    "print(len(gadm_1))\n",
    "print(len(gisaid_1&gadm_1))\n",
    "# print(sorted(gisaid_1 - gadm_1))"
   ]
  },
  {
   "cell_type": "code",
   "execution_count": 52,
   "metadata": {},
   "outputs": [],
   "source": [
    "res['division_normed'] = res['division'].copy()\n",
    "res.loc[res['division_normed']=='USA', 'division_normed'] = 'United States'\n",
    "res.loc[res['division_normed'].str.contains('Georgia /'), 'division_normed'] = 'Georgia'\n",
    "res.loc[res['division_normed'].str.contains('Antwerp'), 'division_normed'] = 'Vlaanderen'\n",
    "res.loc[res['division_normed'].str.contains('Andalu'), 'division_normed'] = 'Andalucía'\n",
    "res.loc[res['division_normed'].str.contains('Cairo'), 'division_normed'] = 'Al Qahirah'\n",
    "res.loc[res['division_normed'].str.contains('Northern territory'), 'division_normed'] = 'Northern Territory'\n",
    "res.loc[res['division_normed'].str.contains('Fayoum'), 'division_normed'] = 'Al Fayyum'\n",
    "res.loc[res['division_normed'].str.contains('Musca'), 'division_normed'] = 'Muscat'\n",
    "res.loc[res['division_normed'].str.contains('Kalyoubia'), 'division_normed'] = 'Al Qalyubiyah'\n",
    "res.loc[res['division_normed'].str.contains('Buraymi'), 'division_normed'] = 'Al Buraymi'\n",
    "res.loc[res['division_normed'].str.contains('Buraimi'), 'division_normed'] = 'Al Buraymi'\n",
    "res.loc[res['division_normed'].str.contains('Dakhiliyah'), 'division_normed'] = 'Ad Dakhliyah'\n",
    "res.loc[res['division_normed'].str.contains('Dhahirah'), 'division_normed'] = 'Al Dhahira'\n",
    "res.loc[res['division_normed'].str.contains('North Batinah'), 'division_normed'] = 'Al Batinah North'\n",
    "res.loc[res['division_normed'].str.contains('South Batinah'), 'division_normed'] = 'Al Batinah South'\n",
    "res.loc[res['division_normed'].str.contains('North Sharqiyah'), 'division_normed'] = 'Ash Sharqiyah North'\n",
    "res.loc[res['division_normed'].str.contains('Wuhan'), 'division_normed'] = 'Hubei'\n",
    "res.loc[res['division_normed'].str.contains('Quebec'), 'division_normed'] = 'Québec'\n",
    "res.loc[res['division_normed'].str.contains('Toronto'), 'division_normed'] = 'Ontario'\n",
    "res.loc[res['division_normed'].str.contains('Coahuila de Zaragoza'), 'division_normed'] = 'Coahuila'\n",
    "res.loc[res['division_normed'].str.contains('Mexico City'), 'division_normed'] = 'México'\n",
    "res.loc[res['division_normed'].str.contains('Michoacan'), 'division_normed'] = 'Michoacán'\n",
    "res.loc[res['division_normed'].str.contains('Nuevo Leon'), 'division_normed'] = 'Nuevo León'\n",
    "res.loc[res['division_normed'].str.contains('Queretaro'), 'division_normed'] = 'Querétaro'\n",
    "res.loc[res['division_normed'].str.contains('SanLuisPotosi'), 'division_normed'] = 'San Luis Potosí'\n",
    "res.loc[res['division_normed'].str.contains('San Luis Potosi'), 'division_normed'] = 'San Luis Potosí'\n",
    "res.loc[res['division_normed'].str.contains('State of Mexico'), 'division_normed'] = 'México'\n",
    "res.loc[res['division_normed'].str.contains('Yucatan'), 'division_normed'] = 'Yucatán'\n",
    "res.loc[res['division_normed'].str.contains('Bethlehem'), 'division_normed'] = 'West Bank'\n",
    "res.loc[res['division_normed'].str.contains('Hebron'), 'division_normed'] = 'West Bank'\n",
    "res.loc[res['division_normed'].str.contains('Jenin'), 'division_normed'] = 'West Bank'\n",
    "res.loc[res['division_normed'].str.contains('Jericho'), 'division_normed'] = 'West Bank'\n",
    "res.loc[res['division_normed'].str.contains('Ramallah'), 'division_normed'] = 'West Bank'\n",
    "res.loc[res['division_normed'].str.contains('Tulkarem'), 'division_normed'] = 'West Bank'\n",
    "res.loc[res['division_normed'].str.contains('Nablus'), 'division_normed'] = 'West Bank'\n",
    "res.loc[res['division_normed'].str.contains('Sharja'), 'division_normed'] = 'Sharjah'\n",
    "res.loc[res['division_normed'].str.contains('Copenhagen'), 'division_normed'] = 'Hovedstaden'\n",
    "res.loc[res['division_normed'].str.contains('Sjaelland'), 'division_normed'] = 'Sjælland'\n",
    "res.loc[res['division_normed'].str.contains('Cape Town'), 'division_normed'] = 'Western Cape'\n",
    "res.loc[res['division_normed'].str.contains('Western Cape'), 'division_normed'] = 'Western Cape'\n",
    "res.loc[res['division_normed'].str.contains('Amapa'), 'division_normed'] = 'Amapá'\n",
    "res.loc[res['division_normed'].str.contains('Ceara'), 'division_normed'] = 'Ceará'\n",
    "res.loc[res['division_normed'].str.contains('Goias'), 'division_normed'] = 'Goiás'\n",
    "res.loc[res['division_normed'].str.contains('Maranhao'), 'division_normed'] = 'Maranhão'\n",
    "res.loc[res['division_normed'].str.contains('Paraiba'), 'division_normed'] = 'Paraíba'\n",
    "res.loc[res['division_normed'].str.contains('Parana'), 'division_normed'] = 'Paraná'\n",
    "res.loc[res['division_normed'].str.contains('Piaui'), 'division_normed'] = 'Piauí'\n",
    "res.loc[res['division_normed'].str.contains('Sao Paulo'), 'division_normed'] = 'São Paulo'\n",
    "res.loc[res['division_normed'].str.contains('Aragon'), 'division_normed'] = 'Aragón'\n",
    "res.loc[res['division_normed'].str.contains('Asturias'), 'division_normed'] = 'Principado de Asturias'\n",
    "res.loc[res['division_normed'].str.contains('Balear Islands'), 'division_normed'] = 'Islas Baleares'\n",
    "res.loc[res['division_normed'].str.contains('Balear_Islands'), 'division_normed'] = 'Islas Baleares'\n",
    "res.loc[res['division_normed'].str.contains('Illes Balears'), 'division_normed'] = 'Islas Baleares'\n",
    "res.loc[res['division_normed'].str.contains('Canary Islands'), 'division_normed'] = 'Canaries'\n",
    "res.loc[res['division_normed'].str.contains('Canary_Islands'), 'division_normed'] = 'Canaries'\n",
    "res.loc[res['division_normed'].str.contains('Castilla La Mancha'), 'division_normed'] = 'Castilla-La Mancha'\n",
    "res.loc[res['division_normed'].str.contains('Castilla la Mancha'), 'division_normed'] = 'Castilla-La Mancha'\n",
    "res.loc[res['division_normed'].str.contains('Castilla y Leon'), 'division_normed'] = 'Castilla y León'\n",
    "res.loc[res['division_normed'].str.contains('Ceuta'), 'division_normed'] = 'Ceuta y Melilla'\n",
    "res.loc[res['division_normed'].str.contains('Melilla'), 'division_normed'] = 'Ceuta y Melilla'\n",
    "res.loc[res['division_normed'].str.contains('Comunitat Valenciana'), 'division_normed'] = 'Comunidad Valenciana'\n",
    "res.loc[res['division_normed'].str.contains('Comunitat_Valenciana'), 'division_normed'] = 'Comunidad Valenciana'\n",
    "res.loc[res['division_normed'].str.contains('La_Rioja'), 'division_normed'] = 'La Rioja'\n",
    "res.loc[res['division_normed'].str.contains('Madrid'), 'division_normed'] = 'Comunidad de Madrid'\n",
    "res.loc[res['division_normed'].str.contains('Murcia'), 'division_normed'] = 'Región de Murcia'\n",
    "res.loc[res['division_normed'].str.contains('Navarra'), 'division_normed'] = 'Comunidad Foral de Navarra'\n",
    "res.loc[res['division_normed'].str.contains('Catalunya'), 'division_normed'] = 'Cataluña'\n",
    "res.loc[res['division_normed'].str.contains('Catalonia'), 'division_normed'] = 'Cataluña'\n",
    "res.loc[res['division_normed'].str.contains('Baden-Wuerttemberg'), 'division_normed'] = 'Baden-Württemberg'\n",
    "res.loc[res['division_normed'].str.contains('Baden-Wurttemberg'), 'division_normed'] = 'Baden-Württemberg'\n",
    "res.loc[res['division_normed'].str.contains('Bavaria'), 'division_normed'] = 'Bayern'\n",
    "res.loc[res['division_normed'].str.contains('Hesse'), 'division_normed'] = 'Hessen'\n",
    "res.loc[res['division_normed'].str.contains('Lower Saxony'), 'division_normed'] = 'Niedersachsen'\n",
    "res.loc[res['division_normed'].str.contains('Mecklenburg-Western Pomerania'), 'division_normed'] = 'Mecklenburg-Vorpommern'\n",
    "res.loc[res['division_normed'].str.contains('Rhineland-Palatinate'), 'division_normed'] = 'Rheinland-Pfalz'\n",
    "res.loc[res['division_normed'].str.contains('Saxony'), 'division_normed'] = 'Sachsen'\n",
    "res.loc[res['division_normed'].str.contains('Saxony-Anhalt'), 'division_normed'] = 'Sachsen-Anhalt'\n",
    "res.loc[res['division_normed'].str.contains('North Rhine-Westphalia'), 'division_normed'] = 'Nordrhein-Westfalen'\n",
    "res.loc[res['division_normed'].str.contains('Thuringia'), 'division_normed'] = 'Thüringen'"
   ]
  },
  {
   "cell_type": "code",
   "execution_count": 53,
   "metadata": {},
   "outputs": [
    {
     "data": {
      "text/plain": [
       "array(['United Arab Emirates'], dtype=object)"
      ]
     },
     "execution_count": 53,
     "metadata": {},
     "output_type": "execute_result"
    }
   ],
   "source": [
    "res.loc[res['country'].str.contains('Emirates'), 'country'].unique()"
   ]
  },
  {
   "cell_type": "code",
   "execution_count": 54,
   "metadata": {},
   "outputs": [],
   "source": [
    "# print(sorted(gadm_2))"
   ]
  },
  {
   "cell_type": "code",
   "execution_count": 55,
   "metadata": {},
   "outputs": [],
   "source": [
    "corrections = bd.COUNTY_CORRECTIONS"
   ]
  },
  {
   "cell_type": "code",
   "execution_count": 56,
   "metadata": {},
   "outputs": [],
   "source": [
    "# res['location'] = res['location'].str.replace(',', '').str[:-2]\n",
    "res.loc[res['location'].isna(), 'location'] = 'None'\n",
    "res['location_normed'] = res['location'].copy()"
   ]
  },
  {
   "cell_type": "code",
   "execution_count": 57,
   "metadata": {},
   "outputs": [],
   "source": [
    "for key, val in corrections.items():\n",
    "    res.loc[:, 'location_normed'] = res['location_normed'].str.replace(key, val)\n",
    "res.loc[:, 'location_normed'] = res['location_normed'].str.replace('County', '').str.replace('county', '').str.replace(',', '')\n",
    "res.loc[:, 'location_normed'] = res['location_normed'].str.strip().apply(bv.check_state, args=(False,)).str.strip()\n",
    "res.loc[res['location_normed'].str.contains('Anchorage-Mat-Su'), 'location_normed'] = 'Anchorage'\n",
    "res.loc[res['location_normed'].str.contains('Anchorage-Mat Su'), 'location_normed'] = 'Anchorage'\n",
    "res.loc[res['location_normed'].str.contains('BRA'), 'location_normed'] = 'Brazos'\n",
    "res.loc[res['location_normed'].str.contains('BR'), 'location_normed'] = 'Brewster'\n",
    "res.loc[res['location_normed'].str.contains('Belgrade'), 'location_normed'] = 'Gallatin'\n",
    "res.loc[res['location_normed'].str.contains('Bozeman'), 'location_normed'] = 'Gallatin'\n",
    "res.loc[res['location_normed'].str.contains('Big Sky'), 'location_normed'] = 'Gallatin'\n",
    "res.loc[res['location_normed'].str.contains('Belton'), 'location_normed'] = 'Bell'\n",
    "res.loc[res['location_normed'].str.contains('Brentwood'), 'location_normed'] = 'Contra Costa'\n",
    "res.loc[res['location_normed'].str.contains('Chicago'), 'location_normed'] = 'Cook'\n",
    "res.loc[res['location_normed'].str.contains('Colombus'), 'location_normed'] = 'Franklin'\n",
    "res.loc[res['location_normed'].str.contains('DuBois'), 'location_normed'] = 'Fremont'\n",
    "res.loc[res['location_normed'].str.contains('DuPage'), 'location_normed'] = 'Dupage'\n",
    "res.loc[res['location_normed'].str.contains('Eau claire'), 'location_normed'] = 'Eau Claire'\n",
    "res.loc[res['location_normed'].str.contains('Ennis'), 'location_normed'] = 'Ellis'\n",
    "res.loc[res['location_normed'].str.contains('Fond Du Lac'), 'location_normed'] = 'Fond du Lac'\n",
    "res.loc[res['location_normed'].str.contains('Fond du lac'), 'location_normed'] = 'Fond du Lac'\n",
    "res.loc[res['location_normed'].str.contains('Fonddu Lac'), 'location_normed'] = 'Fond du Lac'\n",
    "res.loc[res['location_normed'].str.contains('Frisco'), 'location_normed'] = 'Collin'\n",
    "res.loc[res['location_normed'].str.contains('Hawai'), 'location_normed'] = 'Hawaii'\n",
    "res.loc[res['location_normed'].str.contains('Holland'), 'location_normed'] = 'Ottawa'\n",
    "res.loc[res['location_normed'].str.contains('Honolul'), 'location_normed'] = 'Honolulu'\n",
    "res.loc[res['location_normed'].str.contains('Indianapolis'), 'location_normed'] = 'Marion'\n",
    "res.loc[res['location_normed'].str.contains('Interior'), 'location_normed'] = 'Fairbanks North Star'\n",
    "res.loc[res['location_normed'].str.contains('Ithaca'), 'location_normed'] = 'Tompkins'\n",
    "res.loc[res['location_normed'].str.contains('Kaua'), 'location_normed'] = 'Kauai'\n",
    "res.loc[res['location_normed'].str.contains('Las Vegas'), 'location_normed'] = 'Clark'\n",
    "res.loc[res['location_normed'].str.contains('Mau'), 'location_normed'] = 'Hawaii'\n",
    "res.loc[res['location_normed'].str.contains('Mcculloch'), 'location_normed'] = 'McCulloch'\n",
    "res.loc[res['location_normed'].str.contains('Mchenry'), 'location_normed'] = 'McHenry'\n",
    "res.loc[res['location_normed'].str.contains('Mclennan'), 'location_normed'] = 'McLennan'\n",
    "res.loc[res['location_normed'].str.contains('Moris'), 'location_normed'] = 'Morris'\n",
    "res.loc[res['location_normed'].str.contains('New York'), 'location_normed'] = 'New York'\n",
    "res.loc[res['location_normed'].str.contains('New York City'), 'location_normed'] = 'New York'\n",
    "res.loc[res['location_normed'].str.contains('New Hyde Park'), 'location_normed'] = 'Nassau'\n",
    "res.loc[res['location_normed'].str.contains('New Orleans'), 'location_normed'] = 'Orleans'\n",
    "res.loc[res['location_normed'].str.contains('New Rochelle'), 'location_normed'] = 'Westchester'\n",
    "res.loc[res['location_normed'].str.contains('Northern'), 'location_normed'] = 'Fairbanks North Star'\n",
    "res.loc[res['location_normed'].str.contains('Omaha'), 'location_normed'] = 'Douglas'\n",
    "res.loc[res['location_normed'].str.contains('Ostego'), 'location_normed'] = 'Allegan'\n",
    "res.loc[res['location_normed'].str.contains('Phoenix'), 'location_normed'] = 'Maricopa'\n",
    "res.loc[res['location_normed'].str.contains('San Bernadino'), 'location_normed'] = 'San Bernardino'\n",
    "res.loc[res['location_normed'].str.contains('Seattle'), 'location_normed'] = 'King'\n",
    "res.loc[res['location_normed'].str.contains('St. Bernard'), 'location_normed'] = 'Saint Bernard'\n",
    "res.loc[res['location_normed'].str.contains('St. Clair'), 'location_normed'] = 'Saint Clair'\n",
    "res.loc[res['location_normed'].str.contains('St. Lawrence'), 'location_normed'] = 'Saint Lawrence'\n",
    "res.loc[res['location_normed'].str.contains('St. Louis'), 'location_normed'] = 'Saint Louis'\n",
    "res.loc[res['location_normed'].str.contains('St. Tammany'), 'location_normed'] = 'Saint Tammany'\n",
    "res.loc[res['location_normed'].str.contains('Staten Island'), 'location_normed'] = 'Richmond'\n",
    "res.loc[res['location_normed'].str.contains('Thurson'), 'location_normed'] = 'Thurston'\n",
    "res.loc[res['location_normed'].str.contains('Tucson'), 'location_normed'] = 'Pima'\n",
    "res.loc[res['location_normed'].str.contains('West Yellowstone'), 'location_normed'] = 'Gallatin'\n",
    "res.loc[res['location_normed'].str.contains('Adam'), 'location_normed'] = 'Adams'\n",
    "res.loc[res['location_normed'].str.contains('Alachu'), 'location_normed'] = 'Alachua'\n",
    "res.loc[res['location_normed'].str.contains('Du Bois'), 'location_normed'] = 'Dubois'\n",
    "res.loc[res['location_normed'].str.contains('DeSoto'), 'location_normed'] = 'Desoto'\n",
    "res.loc[res['location_normed'].str.contains('PRESID'), 'location_normed'] = 'Presidio'\n",
    "res.loc[res['location_normed'].str.contains('LaSalle'), 'location_normed'] = 'La Salle'\n",
    "res.loc[res['location_normed'].str.contains('CAMER'), 'location_normed'] = 'Cameron'\n",
    "res.loc[res['location_normed'].str.contains('CAST'), 'location_normed'] = 'Castro'\n",
    "res.loc[res['location_normed'].str.contains('CROS'), 'location_normed'] = 'Crosby'\n",
    "res.loc[res['location_normed'].str.contains('ECT'), 'location_normed'] = 'Ector'\n",
    "res.loc[res['location_normed'].str.contains('GALVEST'), 'location_normed'] = 'Galveston'\n",
    "res.loc[res['location_normed'].str.contains('JEFFERS'), 'location_normed'] = 'Jefferson'\n",
    "res.loc[res['location_normed'].str.contains('KAUFM'), 'location_normed'] = 'Kaufman'\n",
    "res.loc[res['location_normed'].str.contains('KLEBE'), 'location_normed'] = 'Kleberg'\n",
    "res.loc[res['location_normed'].str.contains('LAVA'), 'location_normed'] = 'Lavaca'\n",
    "res.loc[res['location_normed'].str.contains('MCLENN'), 'location_normed'] = 'Mclennan'\n",
    "res.loc[res['location_normed'].str.contains('St.Clair'), 'location_normed'] = 'Saint Clair'\n",
    "res.loc[res['location_normed'].str.contains('TARRA'), 'location_normed'] = 'Tarrant'\n",
    "res.loc[res['location_normed'].str.contains('WALL'), 'location_normed'] = 'Waller'\n",
    "res.loc[res['location_normed'].str.contains('WICHI'), 'location_normed'] = 'Wichita'"
   ]
  },
  {
   "cell_type": "code",
   "execution_count": 58,
   "metadata": {},
   "outputs": [
    {
     "name": "stdout",
     "output_type": "stream",
     "text": [
      "504\n",
      "1840\n",
      "484\n",
      "['', 'Gulf Coast', 'HA', 'M', 'Mclennan', 'Nan', 'Napa Solano Yolo Marin Counties', 'None', 'Out Of State', 'Out of state', 'Out-Of-State', 'Out-of-state', 'Ponce', 'South West', 'Southeast', 'Southwest', 'UNKNO', 'Unknown', 'Western Alaska', 'unknown']\n"
     ]
    }
   ],
   "source": [
    "# TODO: Mexico, China, Jordan, Canada\n",
    "country = 'USA'\n",
    "if country:\n",
    "    gisaid_2 = set(res[res['country']==country]['location_normed'].unique())\n",
    "else:\n",
    "    gisaid_2 = set(res['location_normed'].unique())\n",
    "gadm_2 = set(gadm_locs[(~gadm_locs['NAME_2'].isna())&(gadm_locs['NAME_0']=='United States')]['NAME_2'].unique())\n",
    "print(len(gisaid_2))\n",
    "print(len(gadm_2))\n",
    "print(len(gisaid_2&gadm_2))\n",
    "print(sorted(gisaid_2 - gadm_2))"
   ]
  },
  {
   "cell_type": "code",
   "execution_count": 59,
   "metadata": {},
   "outputs": [
    {
     "data": {
      "text/html": [
       "<div>\n",
       "<style scoped>\n",
       "    .dataframe tbody tr th:only-of-type {\n",
       "        vertical-align: middle;\n",
       "    }\n",
       "\n",
       "    .dataframe tbody tr th {\n",
       "        vertical-align: top;\n",
       "    }\n",
       "\n",
       "    .dataframe thead th {\n",
       "        text-align: right;\n",
       "    }\n",
       "</style>\n",
       "<table border=\"1\" class=\"dataframe\">\n",
       "  <thead>\n",
       "    <tr style=\"text-align: right;\">\n",
       "      <th></th>\n",
       "      <th>region</th>\n",
       "      <th>country</th>\n",
       "      <th>division</th>\n",
       "      <th>location</th>\n",
       "      <th>city</th>\n",
       "      <th>town</th>\n",
       "      <th>country_normed</th>\n",
       "      <th>division_normed</th>\n",
       "      <th>location_normed</th>\n",
       "    </tr>\n",
       "  </thead>\n",
       "  <tbody>\n",
       "  </tbody>\n",
       "</table>\n",
       "</div>"
      ],
      "text/plain": [
       "Empty DataFrame\n",
       "Columns: [region, country, division, location, city, town, country_normed, division_normed, location_normed]\n",
       "Index: []"
      ]
     },
     "execution_count": 59,
     "metadata": {},
     "output_type": "execute_result"
    }
   ],
   "source": [
    "res.loc[res['location_normed'].str.contains('WICHI')]"
   ]
  },
  {
   "cell_type": "code",
   "execution_count": 61,
   "metadata": {},
   "outputs": [
    {
     "name": "stdout",
     "output_type": "stream",
     "text": [
      "Number of samples missing country-level geo-information: 183\n"
     ]
    }
   ],
   "source": [
    "locs_missing = ['', 'GulfCoast', 'Nan', 'Napa,Solano,Yolo,MarinCounties', \n",
    "                'Out-Of-State', 'Out-of-state', 'OutOfState', \n",
    "                'Outofstate', 'Ponce', 'SouthWest', 'Southeast', \n",
    "                'Southwest', 'Unknown', 'WesternAlaska', 'unknown']\n",
    "samples_missing_county = res.loc[(res['location_normed'].isin(locs_missing))&(res['country']=='USA')]\n",
    "print(f'Number of samples missing country-level geo-information: {samples_missing_county.shape[0]}')"
   ]
  },
  {
   "cell_type": "code",
   "execution_count": 112,
   "metadata": {},
   "outputs": [
    {
     "data": {
      "text/plain": [
       "None                  441241\n",
       "Houston                12615\n",
       "Santa Clara County      2246\n",
       "San Diego               2117\n",
       "Yakima County           2031\n",
       "                       ...  \n",
       "Mazet-Saint-Voy            1\n",
       "Albrechtice                1\n",
       "Argenteuil                 1\n",
       "Bermeo                     1\n",
       "Nogent l'Artaud            1\n",
       "Name: location, Length: 3159, dtype: int64"
      ]
     },
     "execution_count": 112,
     "metadata": {},
     "output_type": "execute_result"
    }
   ],
   "source": [
    "res['location'].value_counts()"
   ]
  },
  {
   "cell_type": "code",
   "execution_count": 20,
   "metadata": {},
   "outputs": [
    {
     "data": {
      "text/plain": [
       "England              178277\n",
       "Wales                 25382\n",
       "Hovedstaden           17171\n",
       "Texas                 15897\n",
       "Scotland              15294\n",
       "                      ...  \n",
       "Agri                      1\n",
       "StrassimZillertal         1\n",
       "Dambovita                 1\n",
       "Avissawella               1\n",
       "Ere                       1\n",
       "Name: division, Length: 2315, dtype: int64"
      ]
     },
     "execution_count": 20,
     "metadata": {},
     "output_type": "execute_result"
    }
   ],
   "source": [
    "res['division'].value_counts()"
   ]
  },
  {
   "cell_type": "code",
   "execution_count": 19,
   "metadata": {},
   "outputs": [
    {
     "data": {
      "text/plain": [
       "UnitedKingdom                   221370\n",
       "USA                             105568\n",
       "Denmark                          41985\n",
       "Australia                        17361\n",
       "Japan                            17252\n",
       "                                 ...  \n",
       "SaintVincentandtheGrenadines         1\n",
       "Andorra                              1\n",
       "TrinidadandTobago                    1\n",
       "Albania                              1\n",
       "AntiguaandBarbuda                    1\n",
       "Name: country, Length: 157, dtype: int64"
      ]
     },
     "execution_count": 19,
     "metadata": {},
     "output_type": "execute_result"
    }
   ],
   "source": [
    "res['country'].value_counts()"
   ]
  }
 ],
 "metadata": {
  "kernelspec": {
   "display_name": "bjorn",
   "language": "python",
   "name": "bjorn"
  },
  "language_info": {
   "codemirror_mode": {
    "name": "ipython",
    "version": 3
   },
   "file_extension": ".py",
   "mimetype": "text/x-python",
   "name": "python",
   "nbconvert_exporter": "python",
   "pygments_lexer": "ipython3",
   "version": "3.8.3"
  }
 },
 "nbformat": 4,
 "nbformat_minor": 4
}
