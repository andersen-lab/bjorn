{
 "cells": [
  {
   "cell_type": "code",
   "execution_count": 1,
   "metadata": {},
   "outputs": [],
   "source": [
    "import sys\n",
    "import pandas as pd\n",
    "import os\n",
    "import gc\n",
    "import gzip\n",
    "from path import Path\n",
    "import plotly\n",
    "import plotly.express as px\n",
    "import plotly.graph_objects as go\n",
    "from plotly.subplots import make_subplots\n",
    "from urllib.request import urlopen\n",
    "import json\n",
    "import statsmodels as sm\n",
    "from statsmodels.formula.api import ols\n",
    "from Bio import Seq, SeqIO, AlignIO, Phylo, Align\n",
    "from jinja2 import Environment, FileSystemLoader  # html template engine\n",
    "# import cv2\n",
    "import numpy as np\n",
    "import skimage as sk\n",
    "import matplotlib.pylab as plt\n",
    "import datetime as dt"
   ]
  },
  {
   "cell_type": "code",
   "execution_count": 2,
   "metadata": {},
   "outputs": [],
   "source": [
    "sys.path.append('../')"
   ]
  },
  {
   "cell_type": "code",
   "execution_count": 3,
   "metadata": {},
   "outputs": [],
   "source": [
    "import bjorn_support as bs\n",
    "import onion_trees as ot\n",
    "import mutations as bm\n",
    "import visualize as bv\n",
    "import reports as br\n",
    "import data as bd"
   ]
  },
  {
   "cell_type": "code",
   "execution_count": 4,
   "metadata": {},
   "outputs": [],
   "source": [
    "# subs = pd.read_csv('/home/al/analysis/gisaid/subs_long_2021-01-18.csv.gz', compression='gzip')"
   ]
  },
  {
   "cell_type": "code",
   "execution_count": 5,
   "metadata": {},
   "outputs": [],
   "source": [
    "# data = subs.loc[(subs['mutation']=='S:L452R')&(subs['location'].str.contains('San Diego'))]"
   ]
  },
  {
   "cell_type": "markdown",
   "metadata": {},
   "source": [
    "# Data Priming"
   ]
  },
  {
   "cell_type": "code",
   "execution_count": 6,
   "metadata": {},
   "outputs": [],
   "source": [
    "is_test = False\n",
    "msa_fp = '/valhalla/gisaid/sequences_2021-01-30_aligned.fasta'\n",
    "meta_fp = '/valhalla/gisaid/metadata_2021-01-30_10-36.tsv.gz'\n",
    "date = msa_fp.split('_')[1]"
   ]
  },
  {
   "cell_type": "code",
   "execution_count": 7,
   "metadata": {},
   "outputs": [
    {
     "name": "stdout",
     "output_type": "stream",
     "text": [
      "2021-01-30\n",
      "/valhalla/gisaid/sequences_2021-01-30_aligned.fasta\n",
      "/valhalla/gisaid/metadata_2021-01-30_10-36.tsv.gz\n"
     ]
    }
   ],
   "source": [
    "print(date)\n",
    "print(msa_fp)\n",
    "print(meta_fp)"
   ]
  },
  {
   "cell_type": "code",
   "execution_count": 8,
   "metadata": {},
   "outputs": [],
   "source": [
    "# subs, _ = bm.identify_replacements_per_sample(msa_fp, meta_fp,  \n",
    "#                                            bd.GENE2POS, data_src='gisaid', \n",
    "#                                            is_gzip=True, test=is_test)"
   ]
  },
  {
   "cell_type": "code",
   "execution_count": 9,
   "metadata": {},
   "outputs": [],
   "source": [
    "# subs_fp = f'/valhalla/gisaid/subs_long_{date}.csv.gz'\n",
    "# subs.to_csv(subs_fp, index=False, compression='gzip')"
   ]
  },
  {
   "cell_type": "code",
   "execution_count": 10,
   "metadata": {},
   "outputs": [],
   "source": [
    "# dels, _ = bm.identify_deletions_per_sample(msa_fp, meta_fp,  \n",
    "#                                            bd.GENE2POS, data_src='gisaid', \n",
    "#                                            min_del_len=1, is_gzip=True, \n",
    "#                                            test=is_test)"
   ]
  },
  {
   "cell_type": "code",
   "execution_count": 11,
   "metadata": {},
   "outputs": [],
   "source": [
    "# dels_fp = f'/valhalla/gisaid/dels_long_{date}.csv.gz'\n",
    "# dels.to_csv(dels_fp, index=False, compression='gzip')"
   ]
  },
  {
   "cell_type": "code",
   "execution_count": 12,
   "metadata": {},
   "outputs": [],
   "source": [
    "# (dels.groupby(['mutation', 'absolute_coords', 'del_len', 'del_seq'])\n",
    "#      .agg(num_samples=('idx', 'nunique'))\n",
    "#      .reset_index()\n",
    "#      .nlargest(50, 'num_samples'))"
   ]
  },
  {
   "cell_type": "code",
   "execution_count": null,
   "metadata": {},
   "outputs": [],
   "source": []
  },
  {
   "cell_type": "code",
   "execution_count": 13,
   "metadata": {},
   "outputs": [],
   "source": [
    "# df = pd.read_csv(meta_fp, sep='\\t', compression='gzip')"
   ]
  },
  {
   "cell_type": "code",
   "execution_count": 14,
   "metadata": {},
   "outputs": [],
   "source": [
    "cols = ['strain', 'pangolin_lineage', 'date', 'date_submitted', 'country', 'division', 'location']"
   ]
  },
  {
   "cell_type": "code",
   "execution_count": 15,
   "metadata": {},
   "outputs": [],
   "source": [
    "# df.loc[(df['pangolin_lineage']=='P.1') & (df['country'].str.contains('USA'))][cols]"
   ]
  },
  {
   "cell_type": "markdown",
   "metadata": {},
   "source": [
    "# Analysis Report Generation"
   ]
  },
  {
   "cell_type": "code",
   "execution_count": 16,
   "metadata": {},
   "outputs": [],
   "source": [
    "subs_fp = '/valhalla/gisaid/subs_long_2021-01-30.csv.gz'"
   ]
  },
  {
   "cell_type": "code",
   "execution_count": 17,
   "metadata": {},
   "outputs": [],
   "source": [
    "# df = pd.read_csv(subs_fp, compression='gzip')"
   ]
  },
  {
   "cell_type": "code",
   "execution_count": 18,
   "metadata": {},
   "outputs": [],
   "source": [
    "# feature = 'mutations'\n",
    "# values = ['S:S13I', 'S:W152C', 'S:L452R']\n",
    "feature = 'mutation'\n",
    "# S:Q677H, M:A85S, N:D377Y,\n",
    "values = ['ORF1a:I4205V', 'ORF1b:D1183Y', 'S:S13I', 'S:W152C', 'S:L452R']#['S:P681R', 'S:S254F', 'S:G769V'] \n",
    "input_params = {\n",
    "    'date': '2021-01-30',\n",
    "    'strain': 'CAVUI1',\n",
    "    'gisaid_data_fp' : subs_fp,\n",
    "    'gisaid_meta_fp': meta_fp,\n",
    "    'msa_fp': Path(msa_fp),\n",
    "    'sampling_type': 'random',\n",
    "    'vocs': ['B.1.1.7', 'B.1.1.70'],\n",
    "    'meta_fp' : Path('/home/al/code/HCoV-19-Genomics/metadata.csv'),\n",
    "    'tree_fp' : Path('/home/al/analysis/alab_mutations_01-01-2021/alab/seqs_aligned.fa.treefile'),\n",
    "    'subs_fp' : '/home/al/analysis/alab_mutations_01-01-2021/alab_substitutions_long_01-01-2021.csv',\n",
    "    'countries_fp' : '/home/al/data/geojsons/countries.geo.json',\n",
    "    'states_fp' : \"/home/al/data/geojsons/us-states.json\",\n",
    "    'counties_fp' : '/home/al/data/geojsons/us-counties.json',\n",
    "    'patient_zero' : 'NC_045512.2',\n",
    "    'b117_meta' : '/home/al/analysis/b117/nextstrain_groups_neherlab_ncov_S.N501_metadata.tsv',\n",
    "    'b117_tree': 'test_data/b117_seqs_aligned.fasta.treefile',\n",
    "    'sample_sz': 300,\n",
    "    'sampling_img_fp' : \"/home/al/analysis/b117/figs/sars-cov-2_EM_v3.png\"\n",
    "}"
   ]
  },
  {
   "cell_type": "code",
   "execution_count": 19,
   "metadata": {
    "scrolled": true
   },
   "outputs": [
    {
     "name": "stdout",
     "output_type": "stream",
     "text": [
      "Loading variant data...\n",
      "Collecting input parameters...\n",
      "Fetching strain data...\n",
      "Generating text-based results\n",
      "Generating geo-based results\n",
      "Generating time-based results...\n",
      "Generating genomic results...\n",
      "Results generated on ['ORF1a:I4205V', 'ORF1b:D1183Y', 'S:S13I', 'S:W152C', 'S:L452R']...\n"
     ]
    }
   ],
   "source": [
    "results = br.generate_voc_data(feature, values, input_params)"
   ]
  },
  {
   "cell_type": "code",
   "execution_count": 21,
   "metadata": {},
   "outputs": [
    {
     "name": "stdout",
     "output_type": "stream",
     "text": [
      "Results for ['ORF1a:I4205V', 'ORF1b:D1183Y', 'S:S13I', 'S:W152C', 'S:L452R'] embedded in HTML report\n",
      "Results saved in test_data/cavui1_current_report.html\n"
     ]
    },
    {
     "data": {
      "text/plain": [
       "0"
      ]
     },
     "execution_count": 21,
     "metadata": {},
     "output_type": "execute_result"
    }
   ],
   "source": [
    "html = br.generate_voc_html(feature, values, results, template_name='mut.html')\n",
    "# br.save_html(html, f'test_data/orf1ab_i4205v_report.html')\n",
    "br.save_html(html, f'test_data/cavui1_current_report.html')"
   ]
  },
  {
   "cell_type": "code",
   "execution_count": 21,
   "metadata": {},
   "outputs": [],
   "source": [
    "# data = pd.read_csv(input_params['gisaid_data_fp'], compression='gzip')"
   ]
  },
  {
   "cell_type": "code",
   "execution_count": 22,
   "metadata": {},
   "outputs": [
    {
     "name": "stdout",
     "output_type": "stream",
     "text": [
      "Loading variant data...\n",
      "Collecting input parameters...\n",
      "Fetching strain data...\n",
      "Generating text-based results\n",
      "Generating geo-based results\n",
      "Generating time-based results...\n",
      "Generating genomic results...\n",
      "Results generated on ['ORF1b:D1183Y']...\n",
      "Results for ['ORF1b:D1183Y'] embedded in HTML report\n",
      "Results saved in test_data/orf1b_d1183y_current_report.html\n",
      "Loading variant data...\n",
      "Collecting input parameters...\n",
      "Fetching strain data...\n",
      "Generating text-based results\n",
      "Generating geo-based results\n",
      "Generating time-based results...\n",
      "Generating genomic results...\n",
      "Results generated on ['S:S13I']...\n",
      "Results for ['S:S13I'] embedded in HTML report\n",
      "Results saved in test_data/s_s13i_current_report.html\n",
      "Loading variant data...\n",
      "Collecting input parameters...\n",
      "Fetching strain data...\n",
      "Generating text-based results\n",
      "Generating geo-based results\n",
      "Generating time-based results...\n",
      "Generating genomic results...\n",
      "Results generated on ['S:W152C']...\n",
      "Results for ['S:W152C'] embedded in HTML report\n",
      "Results saved in test_data/s_w152c_current_report.html\n",
      "Loading variant data...\n",
      "Collecting input parameters...\n",
      "Fetching strain data...\n",
      "Generating text-based results\n",
      "Generating geo-based results\n",
      "Generating time-based results...\n",
      "Generating genomic results...\n",
      "Results generated on ['S:L452R']...\n",
      "Results for ['S:L452R'] embedded in HTML report\n",
      "Results saved in test_data/s_l452r_current_report.html\n",
      "Loading variant data...\n",
      "Collecting input parameters...\n",
      "Fetching strain data...\n",
      "Generating text-based results\n",
      "Generating geo-based results\n",
      "Generating time-based results...\n",
      "Generating genomic results...\n",
      "Results generated on ['S:N501Y']...\n",
      "Results for ['S:N501Y'] embedded in HTML report\n",
      "Results saved in test_data/s_n501y_current_report.html\n",
      "Loading variant data...\n",
      "Collecting input parameters...\n",
      "Fetching strain data...\n",
      "Generating text-based results\n",
      "Generating geo-based results\n",
      "Generating time-based results...\n",
      "Generating genomic results...\n",
      "Results generated on ['S:P681H']...\n",
      "Results for ['S:P681H'] embedded in HTML report\n",
      "Results saved in test_data/s_p681h_current_report.html\n",
      "Loading variant data...\n",
      "Collecting input parameters...\n",
      "Fetching strain data...\n",
      "Generating text-based results\n",
      "Generating geo-based results\n",
      "Generating time-based results...\n",
      "Generating genomic results...\n",
      "Results generated on ['S:E484K']...\n",
      "Results for ['S:E484K'] embedded in HTML report\n",
      "Results saved in test_data/s_e484k_current_report.html\n"
     ]
    }
   ],
   "source": [
    "runs = {'orf1b_d1183y': 'ORF1b:D1183Y', \n",
    "        's_s13i': 'S:S13I', 's_w152c': 'S:W152C', 's_l452r': 'S:L452R',\n",
    "        's_n501y': 'S:N501Y', 's_p681h': 'S:P681H', 's_e484k': 'S:E484K'}\n",
    "for name, mut in runs.items():\n",
    "    input_params['strain'] = mut\n",
    "    results = br.generate_voc_data(feature, [mut], input_params)\n",
    "    html = br.generate_voc_html(feature, [mut], results, template_name='mut.html')\n",
    "    br.save_html(html, f'test_data/{name}_current_report.html')"
   ]
  },
  {
   "cell_type": "code",
   "execution_count": 19,
   "metadata": {},
   "outputs": [
    {
     "name": "stdout",
     "output_type": "stream",
     "text": [
      "Loading variant data...\n",
      "Collecting input parameters...\n",
      "Fetching strain data...\n",
      "Generating text-based results\n",
      "Generating geo-based results\n",
      "Generating time-based results...\n",
      "Generating genomic results...\n",
      "Results generated on ['S:P681R']...\n",
      "Results for ['S:P681R'] embedded in HTML report\n",
      "Results saved in test_data/s_p681r_current_report.html\n"
     ]
    }
   ],
   "source": [
    "runs = {'s_p681r': 'S:P681R'}\n",
    "for name, mut in runs.items():\n",
    "    input_params['strain'] = mut\n",
    "    results = br.generate_voc_data(feature, [mut], input_params)\n",
    "    html = br.generate_voc_html(feature, [mut], results, template_name='mut.html')\n",
    "    br.save_html(html, f'test_data/{name}_current_report.html')"
   ]
  },
  {
   "cell_type": "code",
   "execution_count": 21,
   "metadata": {},
   "outputs": [],
   "source": [
    "# feature = 'mutations'\n",
    "# values = ['S:S13I', 'S:W152C', 'S:L452R']\n",
    "feature = 'mutation'\n",
    "# S:Q677H, M:A85S, N:D377Y,\n",
    "values = ['ORF1a:I4205V', 'ORF1b:D1183Y', 'S:S13I', 'S:W152C', 'S:L452R']#, 'S:L452R']#, 'S:W152C', 'S:L452R'] # 'ORF1ab:I4205V', \n",
    "input_params['strain'] = 'CAVUI1'"
   ]
  },
  {
   "cell_type": "code",
   "execution_count": 22,
   "metadata": {
    "scrolled": true
   },
   "outputs": [
    {
     "name": "stdout",
     "output_type": "stream",
     "text": [
      "Loading variant data...\n",
      "Collecting input parameters...\n",
      "Fetching strain data...\n",
      "Generating text-based results\n",
      "Generating geo-based results\n",
      "Generating time-based results...\n",
      "Generating genomic results...\n",
      "Results generated on ['ORF1a:I4205V', 'ORF1b:D1183Y', 'S:S13I', 'S:W152C', 'S:L452R']...\n"
     ]
    }
   ],
   "source": [
    "results = br.generate_voc_data(feature, values, input_params)"
   ]
  },
  {
   "cell_type": "code",
   "execution_count": 23,
   "metadata": {},
   "outputs": [
    {
     "name": "stdout",
     "output_type": "stream",
     "text": [
      "Results for ['ORF1a:I4205V', 'ORF1b:D1183Y', 'S:S13I', 'S:W152C', 'S:L452R'] embedded in HTML report\n",
      "Results saved in test_data/cavui1_current_report.html\n"
     ]
    },
    {
     "data": {
      "text/plain": [
       "0"
      ]
     },
     "execution_count": 23,
     "metadata": {},
     "output_type": "execute_result"
    }
   ],
   "source": [
    "html = br.generate_voc_html(feature, values, results, template_name='mut.html')\n",
    "# br.save_html(html, f'test_data/orf1ab_i4205v_report.html')\n",
    "br.save_html(html, f'test_data/cavui1_current_report.html')"
   ]
  },
  {
   "cell_type": "code",
   "execution_count": null,
   "metadata": {},
   "outputs": [],
   "source": []
  },
  {
   "cell_type": "code",
   "execution_count": null,
   "metadata": {},
   "outputs": [],
   "source": []
  },
  {
   "cell_type": "code",
   "execution_count": null,
   "metadata": {},
   "outputs": [],
   "source": []
  },
  {
   "cell_type": "code",
   "execution_count": 17,
   "metadata": {},
   "outputs": [],
   "source": [
    "gisaid = pd.read_csv(input_params['gisaid_data_fp'], compression='gzip')"
   ]
  },
  {
   "cell_type": "code",
   "execution_count": 24,
   "metadata": {},
   "outputs": [],
   "source": [
    "mutations = ['S:Q677H', 'M:A85S', 'N:D377Y']"
   ]
  },
  {
   "cell_type": "code",
   "execution_count": 30,
   "metadata": {},
   "outputs": [],
   "source": [
    "m = gisaid.groupby(['country', 'division', 'strain']).agg(mutations=('mutation', 'unique')).reset_index()\n"
   ]
  },
  {
   "cell_type": "code",
   "execution_count": 31,
   "metadata": {},
   "outputs": [],
   "source": [
    "m['is_vui'] = m['mutations'].apply(bv.is_vui, args=(set(mutations),))"
   ]
  },
  {
   "cell_type": "code",
   "execution_count": 32,
   "metadata": {},
   "outputs": [
    {
     "data": {
      "text/plain": [
       "Ontario          25\n",
       "New York         10\n",
       "Maryland          2\n",
       "Wisconsin         2\n",
       "West Virginia     1\n",
       "Massachusetts     1\n",
       "Michigan          1\n",
       "Texas             1\n",
       "Name: division, dtype: int64"
      ]
     },
     "execution_count": 32,
     "metadata": {},
     "output_type": "execute_result"
    }
   ],
   "source": [
    "m.loc[m['is_vui']==True, 'division'].value_counts()"
   ]
  },
  {
   "cell_type": "code",
   "execution_count": 16,
   "metadata": {},
   "outputs": [],
   "source": [
    "# res = (gisaid.groupby(['date', 'country', 'division', \n",
    "#                                         'purpose_of_sequencing',\n",
    "#                                         'location', 'pangolin_lineage', 'strain'])\n",
    "#                        .agg(mutations=('mutation', 'unique')).reset_index())\n",
    "# res['is_vui'] = res['mutations'].apply(bv.is_vui, args=(set(values),))"
   ]
  },
  {
   "cell_type": "code",
   "execution_count": 12,
   "metadata": {},
   "outputs": [],
   "source": [
    "\n",
    "def get_mutations(data: pd.DataFrame, lineage: str='B.1.1.7'):\n",
    "    mutations = set(data[data['pangolin_lineage']==lineage]['mutation'].unique().tolist())\n",
    "    return mutations"
   ]
  }
 ],
 "metadata": {
  "kernelspec": {
   "display_name": "covid",
   "language": "python",
   "name": "covid"
  },
  "language_info": {
   "codemirror_mode": {
    "name": "ipython",
    "version": 3
   },
   "file_extension": ".py",
   "mimetype": "text/x-python",
   "name": "python",
   "nbconvert_exporter": "python",
   "pygments_lexer": "ipython3",
   "version": "3.8.3"
  }
 },
 "nbformat": 4,
 "nbformat_minor": 4
}
