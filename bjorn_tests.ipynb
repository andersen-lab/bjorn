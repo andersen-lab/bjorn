{
 "cells": [
  {
   "cell_type": "code",
   "execution_count": 3,
   "metadata": {},
   "outputs": [],
   "source": [
    "import sys\n",
    "import time\n",
    "import json\n",
    "import numpy as np\n",
    "import pandas as pd\n",
    "from Bio import Seq, SeqIO, AlignIO, Phylo, Align\n",
    "\n",
    "\n",
    "import bjorn_support as bs\n",
    "import onion_trees as ot\n",
    "import mutations as bm\n",
    "import visualize as bv\n",
    "import reports as br\n",
    "import data as bd"
   ]
  },
  {
   "cell_type": "code",
   "execution_count": 1,
   "metadata": {},
   "outputs": [
    {
     "data": {
      "text/plain": [
       "'test.fasta'"
      ]
     },
     "execution_count": 1,
     "metadata": {},
     "output_type": "execute_result"
    }
   ],
   "source": [
    "t = 'test.fasta.gz'\n",
    "t[:-3]"
   ]
  },
  {
   "cell_type": "code",
   "execution_count": 20,
   "metadata": {},
   "outputs": [
    {
     "data": {
      "text/plain": [
       "True"
      ]
     },
     "execution_count": 20,
     "metadata": {},
     "output_type": "execute_result"
    }
   ],
   "source": [
    "t = \"False\"\n",
    "bool(t)"
   ]
  },
  {
   "cell_type": "code",
   "execution_count": 2,
   "metadata": {},
   "outputs": [],
   "source": [
    "import plotly\n",
    "import plotly.express as px\n",
    "import plotly.graph_objects as go\n",
    "from plotly.subplots import make_subplots"
   ]
  },
  {
   "cell_type": "code",
   "execution_count": 3,
   "metadata": {},
   "outputs": [],
   "source": [
    "ref_path = '/home/al/data/hcov19/NC045512.fasta'\n",
    "in_fasta_path = '/valhalla/gisaid/sequences_2021-01-28_09-27.fasta'\n",
    "out_fasta_path = '/valhalla/gisaid/sequences_2021-01-28.fasta'\n",
    "out_sam_path = '/valhalla/gisaid/sequences_2021-01-28.sam'\n",
    "out_algn_path = '/valhalla/gisaid/sequences_2021-01-28_aligned.fasta'"
   ]
  },
  {
   "cell_type": "code",
   "execution_count": 14,
   "metadata": {},
   "outputs": [],
   "source": [
    "# TEST: concat_fasta()\n",
    "## Test before concat\n",
    "seqs = bs.load_fasta(in_fasta_path)\n",
    "test = [rec for rec in seqs if rec.id=='NC_045512.2']\n",
    "assert len(test)==0, f'ERROR: The reference at {ref_path} was already found in {in_fasta_path}. Cannot run test'"
   ]
  },
  {
   "cell_type": "code",
   "execution_count": 4,
   "metadata": {},
   "outputs": [
    {
     "data": {
      "text/plain": [
       "'/valhalla/gisaid/sequences_2021-01-28.fasta'"
      ]
     },
     "execution_count": 4,
     "metadata": {},
     "output_type": "execute_result"
    }
   ],
   "source": [
    "bs.concat_fasta_2([in_fasta_path, ref_path], out_fasta_path)"
   ]
  },
  {
   "cell_type": "code",
   "execution_count": 7,
   "metadata": {},
   "outputs": [],
   "source": [
    "## Test after concat\n",
    "seqs = bs.load_fasta(out_fasta_path)\n",
    "test = [rec for rec in seqs if rec.id=='NC_045512.2']\n",
    "assert len(test)==1, f'ERROR: The reference at {ref_path} was NOT found after concatenation. Something is off'"
   ]
  },
  {
   "cell_type": "code",
   "execution_count": 1,
   "metadata": {},
   "outputs": [],
   "source": [
    "bs.run_minimap2(out_fasta_path, out_sam_path, ref_path)"
   ]
  },
  {
   "cell_type": "code",
   "execution_count": 5,
   "metadata": {},
   "outputs": [],
   "source": [
    "df = pd.read_csv('/Users/al/Documents/scripps/analysis/gisaid/subs_long_2021-01-01.csv.gz', compression='gzip')"
   ]
  },
  {
   "cell_type": "code",
   "execution_count": 7,
   "metadata": {},
   "outputs": [
    {
     "data": {
      "text/html": [
       "<div>\n",
       "<style scoped>\n",
       "    .dataframe tbody tr th:only-of-type {\n",
       "        vertical-align: middle;\n",
       "    }\n",
       "\n",
       "    .dataframe tbody tr th {\n",
       "        vertical-align: top;\n",
       "    }\n",
       "\n",
       "    .dataframe thead th {\n",
       "        text-align: right;\n",
       "    }\n",
       "</style>\n",
       "<table border=\"1\" class=\"dataframe\">\n",
       "  <thead>\n",
       "    <tr style=\"text-align: right;\">\n",
       "      <th></th>\n",
       "      <th>idx</th>\n",
       "      <th>mutation</th>\n",
       "    </tr>\n",
       "  </thead>\n",
       "  <tbody>\n",
       "    <tr>\n",
       "      <th>0</th>\n",
       "      <td>Netherlands/Utrecht_1363564/2020</td>\n",
       "      <td>5UTR:R81C</td>\n",
       "    </tr>\n",
       "    <tr>\n",
       "      <th>1</th>\n",
       "      <td>Netherlands/Utrecht_1363564/2020</td>\n",
       "      <td>ORF1a:E754D</td>\n",
       "    </tr>\n",
       "    <tr>\n",
       "      <th>2</th>\n",
       "      <td>Netherlands/Utrecht_1363564/2020</td>\n",
       "      <td>ORF1a:F924F</td>\n",
       "    </tr>\n",
       "    <tr>\n",
       "      <th>3</th>\n",
       "      <td>Netherlands/Utrecht_1363564/2020</td>\n",
       "      <td>ORF1a:A1314T</td>\n",
       "    </tr>\n",
       "    <tr>\n",
       "      <th>4</th>\n",
       "      <td>Netherlands/Utrecht_1363564/2020</td>\n",
       "      <td>ORF1a:P2055S</td>\n",
       "    </tr>\n",
       "  </tbody>\n",
       "</table>\n",
       "</div>"
      ],
      "text/plain": [
       "                                idx      mutation\n",
       "0  Netherlands/Utrecht_1363564/2020     5UTR:R81C\n",
       "1  Netherlands/Utrecht_1363564/2020   ORF1a:E754D\n",
       "2  Netherlands/Utrecht_1363564/2020   ORF1a:F924F\n",
       "3  Netherlands/Utrecht_1363564/2020  ORF1a:A1314T\n",
       "4  Netherlands/Utrecht_1363564/2020  ORF1a:P2055S"
      ]
     },
     "execution_count": 7,
     "metadata": {},
     "output_type": "execute_result"
    }
   ],
   "source": [
    "df.head()[['idx', 'mutation']]"
   ]
  },
  {
   "cell_type": "code",
   "execution_count": null,
   "metadata": {},
   "outputs": [],
   "source": []
  },
  {
   "cell_type": "code",
   "execution_count": null,
   "metadata": {},
   "outputs": [],
   "source": []
  },
  {
   "cell_type": "code",
   "execution_count": 4,
   "metadata": {},
   "outputs": [],
   "source": [
    "date = '2021-01-26'\n",
    "countries_fp = '/home/al/data/geojsons/countries.geo.json'\n",
    "states_fp = '/home/al/data/geojsons/us-states.json'\n",
    "subs = pd.read_csv('/home/al/analysis/gisaid/subs_long_2021-01-25.csv.gz', \n",
    "                   compression='gzip')\n",
    "dels = pd.read_csv('/home/al/analysis/gisaid/dels_long_2021-01-25.csv.gz', \n",
    "                   compression='gzip')"
   ]
  },
  {
   "cell_type": "code",
   "execution_count": 5,
   "metadata": {},
   "outputs": [
    {
     "name": "stdout",
     "output_type": "stream",
     "text": [
      "(6328749, 38)\n",
      "(117950, 44)\n",
      "(6446699, 47)\n"
     ]
    }
   ],
   "source": [
    "print(subs.shape)\n",
    "print(dels.shape)\n",
    "subs['type'] = 'substitution'\n",
    "muts = pd.concat([subs, dels])\n",
    "print(muts.shape)"
   ]
  },
  {
   "cell_type": "code",
   "execution_count": 8,
   "metadata": {},
   "outputs": [],
   "source": [
    "muts_2 = prime_mutation_logic(muts.copy())"
   ]
  },
  {
   "cell_type": "code",
   "execution_count": 9,
   "metadata": {},
   "outputs": [],
   "source": [
    "# pick any two random samples\n",
    "s_x, s_y = np.random.randint(0, muts.shape[0], size=2)\n",
    "\n",
    "s_x = muts.iloc[s_x]['strain']\n",
    "s_y = muts.iloc[s_y]['strain']"
   ]
  },
  {
   "cell_type": "code",
   "execution_count": 11,
   "metadata": {},
   "outputs": [
    {
     "name": "stdout",
     "output_type": "stream",
     "text": [
      "Execution time: 0.09739899635314941 s\n"
     ]
    }
   ],
   "source": [
    "# debugging & profiling\n",
    "start = time.time()\n",
    "get_sample_mutations(muts_2, sample_id=s_x)\n",
    "end = time.time()\n",
    "print(f\"Execution time: {end-start} s\")"
   ]
  },
  {
   "cell_type": "code",
   "execution_count": 12,
   "metadata": {},
   "outputs": [
    {
     "name": "stdout",
     "output_type": "stream",
     "text": [
      "Execution time: 6.325293302536011 s\n"
     ]
    }
   ],
   "source": [
    "# debugging & profiling\n",
    "start = time.time()\n",
    "get_sample_mutations_old(muts, sample_id=s_x)\n",
    "end = time.time()\n",
    "print(f\"Execution time: {end-start} s\")"
   ]
  },
  {
   "cell_type": "code",
   "execution_count": 17,
   "metadata": {},
   "outputs": [
    {
     "name": "stdout",
     "output_type": "stream",
     "text": [
      "Common mutations between samples Chile/MA-194114-B/2020 and USA/MI-UM-10036454184/2020:\n",
      "\n",
      "{'ORF1a:F924F', 'S:D614G', '5UTR:R81C', 'ORF1b:P314L'}\n"
     ]
    }
   ],
   "source": [
    "m_x = get_sample_mutations(muts_2, sample_id=s_x)\n",
    "m_y = get_sample_mutations(muts_2, sample_id=s_y)\n",
    "print(f\"Common mutations between samples {s_x} and {s_y}:\\n\")\n",
    "print(m_x & m_y)"
   ]
  },
  {
   "cell_type": "code",
   "execution_count": 18,
   "metadata": {},
   "outputs": [
    {
     "name": "stdout",
     "output_type": "stream",
     "text": [
      "Mutations found in either samples Chile/MA-194114-B/2020 and USA/MI-UM-10036454184/2020:\n",
      "\n",
      "{'ORF1b:A302S', 'N:P67S', 'ORF1b:P314L', 'ORF1a:F2602F', 'ORF1b:R2613C', '5UTR:R81C', 'S:A924A', 'N:D377Y', 'ORF1b:Y23Y', 'ORF3a:Q57H', 'ORF1a:L3352F', 'S:T307I', 'S:T723T', 'N:S2F', 'ORF1b:N1653D', 'N:P199L', 'ORF1a:N786N', 'S:D614G', 'ORF1b:Y446Y', 'ORF1a:E2940E', 'N:R203K', 'ORF1a:T1250I', 'ORF1a:T265I', 'ORF1b:D412D', 'ORF1a:D3897D', 'ORF3a:G172V', 'ORF1a:T1246I', 'S:E1182Q', 'ORF1a:F924F', 'ORF8:S24L', 'ORF1a:M2606I', 'ORF1a:P4312P', 'ORF7b:L17L', 'N:G204R', 'ORF1a:G3278S', 'ORF1b:L1531L'}\n"
     ]
    }
   ],
   "source": [
    "print(f\"Mutations found in either samples {s_x} and {s_y}:\\n\")\n",
    "print(m_x | m_y)"
   ]
  },
  {
   "cell_type": "code",
   "execution_count": 19,
   "metadata": {},
   "outputs": [
    {
     "name": "stdout",
     "output_type": "stream",
     "text": [
      "Mutations found in sample Chile/MA-194114-B/2020 but NOT in USA/MI-UM-10036454184/2020:\n",
      "\n",
      "{'S:T723T', 'ORF1b:A302S', 'N:S2F', 'ORF1a:F2602F', 'ORF1a:N786N', 'ORF1a:T1246I', 'S:E1182Q', 'S:A924A', 'ORF1a:P4312P', 'N:R203K', 'ORF7b:L17L', 'ORF1a:T1250I', 'N:G204R', 'S:T307I', 'ORF1a:G3278S', 'ORF1b:Y23Y', 'ORF1b:D412D', 'ORF1b:L1531L'}\n"
     ]
    }
   ],
   "source": [
    "print(f\"Mutations found in sample {s_x} but NOT in {s_y}:\\n\")\n",
    "print(m_x - m_y)"
   ]
  },
  {
   "cell_type": "code",
   "execution_count": 20,
   "metadata": {},
   "outputs": [
    {
     "name": "stdout",
     "output_type": "stream",
     "text": [
      "Mutations found in sample USA/MI-UM-10036454184/2020 but NOT in Chile/MA-194114-B/2020:\n",
      "\n",
      "{'ORF1a:D3897D', 'ORF3a:G172V', 'ORF1b:N1653D', 'N:P67S', 'N:P199L', 'ORF3a:Q57H', 'ORF1b:R2613C', 'ORF1b:Y446Y', 'ORF1a:L3352F', 'ORF1a:M2606I', 'ORF1a:E2940E', 'ORF8:S24L', 'N:D377Y', 'ORF1a:T265I'}\n"
     ]
    }
   ],
   "source": [
    "print(f\"Mutations found in sample {s_y} but NOT in {s_x}:\\n\")\n",
    "print(m_y - m_x)"
   ]
  },
  {
   "cell_type": "code",
   "execution_count": null,
   "metadata": {},
   "outputs": [],
   "source": []
  }
 ],
 "metadata": {
  "kernelspec": {
   "display_name": "bjorn",
   "language": "python",
   "name": "bjorn"
  },
  "language_info": {
   "codemirror_mode": {
    "name": "ipython",
    "version": 3
   },
   "file_extension": ".py",
   "mimetype": "text/x-python",
   "name": "python",
   "nbconvert_exporter": "python",
   "pygments_lexer": "ipython3",
   "version": "3.8.5"
  }
 },
 "nbformat": 4,
 "nbformat_minor": 5
}
