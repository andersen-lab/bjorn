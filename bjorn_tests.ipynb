{
 "cells": [
  {
   "cell_type": "code",
   "execution_count": 15,
   "metadata": {},
   "outputs": [],
   "source": [
    "import sys\n",
    "import time\n",
    "import json\n",
    "import numpy as np\n",
    "import pandas as pd\n",
    "from Bio import Seq, SeqIO, AlignIO, Phylo, Align\n",
    "\n",
    "\n",
    "import bjorn_support as bs\n",
    "import onion_trees as ot\n",
    "import mutations as bm\n",
    "import visualize as bv\n",
    "import reports as br\n",
    "import data as bd"
   ]
  },
  {
   "cell_type": "code",
   "execution_count": 20,
   "metadata": {},
   "outputs": [
    {
     "data": {
      "text/plain": [
       "True"
      ]
     },
     "execution_count": 20,
     "metadata": {},
     "output_type": "execute_result"
    }
   ],
   "source": [
    "t = \"False\"\n",
    "bool(t)"
   ]
  },
  {
   "cell_type": "code",
   "execution_count": 2,
   "metadata": {},
   "outputs": [],
   "source": [
    "import plotly\n",
    "import plotly.express as px\n",
    "import plotly.graph_objects as go\n",
    "from plotly.subplots import make_subplots"
   ]
  },
  {
   "cell_type": "code",
   "execution_count": 3,
   "metadata": {},
   "outputs": [],
   "source": [
    "ref_path = '/home/al/data/hcov19/NC045512.fasta'\n",
    "in_fasta_path = '/valhalla/gisaid/sequences_2021-01-28_09-27.fasta'\n",
    "out_fasta_path = '/valhalla/gisaid/sequences_2021-01-28.fasta'\n",
    "out_sam_path = '/valhalla/gisaid/sequences_2021-01-28.sam'\n",
    "out_algn_path = '/valhalla/gisaid/sequences_2021-01-28_aligned.fasta'"
   ]
  },
  {
   "cell_type": "code",
   "execution_count": 14,
   "metadata": {},
   "outputs": [],
   "source": [
    "# TEST: concat_fasta()\n",
    "## Test before concat\n",
    "seqs = bs.load_fasta(in_fasta_path)\n",
    "test = [rec for rec in seqs if rec.id=='NC_045512.2']\n",
    "assert len(test)==0, f'ERROR: The reference at {ref_path} was already found in {in_fasta_path}. Cannot run test'"
   ]
  },
  {
   "cell_type": "code",
   "execution_count": 4,
   "metadata": {},
   "outputs": [
    {
     "data": {
      "text/plain": [
       "'/valhalla/gisaid/sequences_2021-01-28.fasta'"
      ]
     },
     "execution_count": 4,
     "metadata": {},
     "output_type": "execute_result"
    }
   ],
   "source": [
    "bs.concat_fasta_2([in_fasta_path, ref_path], out_fasta_path)"
   ]
  },
  {
   "cell_type": "code",
   "execution_count": 7,
   "metadata": {},
   "outputs": [],
   "source": [
    "## Test after concat\n",
    "seqs = bs.load_fasta(out_fasta_path)\n",
    "test = [rec for rec in seqs if rec.id=='NC_045512.2']\n",
    "assert len(test)==1, f'ERROR: The reference at {ref_path} was NOT found after concatenation. Something is off'"
   ]
  },
  {
   "cell_type": "code",
   "execution_count": 4,
   "metadata": {},
   "outputs": [
    {
     "name": "stdout",
     "output_type": "stream",
     "text": [
      "[M::mm_idx_gen::1.686*1.00] collected minimizers\n",
      "[M::mm_idx_gen::1.690*1.00] sorted minimizers\n",
      "[M::main::1.690*1.00] loaded/built the index for 1 target sequence(s)\n",
      "[M::mm_mapopt_update::1.690*1.00] mid_occ = 100\n",
      "[M::mm_idx_stat] kmer size: 19; skip: 19; is_hpc: 0; #seq: 1\n",
      "[M::mm_idx_stat::1.690*1.00] distinct minimizers: 3006 (100.00% are singletons); average occurrences: 1.000; average spacing: 9.948; total length: 29903\n",
      "[M::worker_pipeline::13.383*19.81] mapped 16779 sequences\n",
      "[M::worker_pipeline::23.243*22.08] mapped 16780 sequences\n",
      "[M::worker_pipeline::33.434*23.03] mapped 16781 sequences\n",
      "[M::worker_pipeline::43.282*23.51] mapped 16780 sequences\n",
      "[M::worker_pipeline::52.956*23.81] mapped 16782 sequences\n",
      "[M::worker_pipeline::62.900*24.03] mapped 16781 sequences\n",
      "[M::worker_pipeline::72.709*24.18] mapped 16793 sequences\n",
      "[M::worker_pipeline::82.789*24.30] mapped 16799 sequences\n",
      "[M::worker_pipeline::92.489*24.39] mapped 16780 sequences\n",
      "[M::worker_pipeline::102.179*24.46] mapped 16793 sequences\n",
      "[M::worker_pipeline::111.995*24.53] mapped 16792 sequences\n",
      "[M::worker_pipeline::122.070*24.58] mapped 16786 sequences\n",
      "[M::worker_pipeline::131.774*24.62] mapped 16781 sequences\n",
      "[M::worker_pipeline::141.248*24.66] mapped 16792 sequences\n",
      "[M::worker_pipeline::150.986*24.69] mapped 16789 sequences\n",
      "[M::worker_pipeline::160.743*24.72] mapped 16778 sequences\n",
      "[M::worker_pipeline::170.924*24.74] mapped 16782 sequences\n",
      "[M::worker_pipeline::180.650*24.76] mapped 16784 sequences\n",
      "[M::worker_pipeline::190.220*24.79] mapped 16782 sequences\n",
      "[M::worker_pipeline::199.708*24.80] mapped 16775 sequences\n",
      "[M::worker_pipeline::209.432*24.82] mapped 16788 sequences\n",
      "[M::worker_pipeline::219.364*24.83] mapped 16780 sequences\n",
      "[M::worker_pipeline::229.125*24.85] mapped 16789 sequences\n",
      "[M::worker_pipeline::238.630*24.86] mapped 16783 sequences\n",
      "[M::worker_pipeline::248.800*24.87] mapped 16792 sequences\n",
      "[M::worker_pipeline::254.009*24.85] mapped 9915 sequences\n",
      "[M::main] Version: 2.17-r974-dirty\n",
      "[M::main] CMD: minimap2 -a -x asm5 -t 25 -o /valhalla/gisaid/sequences_2021-01-28.sam /home/al/data/hcov19/NC045512.fasta /valhalla/gisaid/sequences_2021-01-28.fasta\n",
      "[M::main] Real time: 254.046 sec; CPU: 6311.820 sec; Peak RSS: 1.155 GB\n"
     ]
    },
    {
     "data": {
      "text/plain": [
       "'/valhalla/gisaid/sequences_2021-01-28.sam'"
      ]
     },
     "execution_count": 4,
     "metadata": {},
     "output_type": "execute_result"
    }
   ],
   "source": [
    "bs.run_minimap2(out_fasta_path, out_sam_path, ref_path)"
   ]
  },
  {
   "cell_type": "code",
   "execution_count": 17,
   "metadata": {},
   "outputs": [],
   "source": [
    "df = pd.read_csv('/valhalla/gisaid/subs_long_2021-01-30.csv.gz', compression='gzip')"
   ]
  },
  {
   "cell_type": "code",
   "execution_count": null,
   "metadata": {},
   "outputs": [],
   "source": []
  },
  {
   "cell_type": "code",
   "execution_count": null,
   "metadata": {},
   "outputs": [],
   "source": []
  },
  {
   "cell_type": "code",
   "execution_count": null,
   "metadata": {},
   "outputs": [],
   "source": []
  },
  {
   "cell_type": "code",
   "execution_count": 4,
   "metadata": {},
   "outputs": [],
   "source": [
    "date = '2021-01-26'\n",
    "countries_fp = '/home/al/data/geojsons/countries.geo.json'\n",
    "states_fp = '/home/al/data/geojsons/us-states.json'\n",
    "subs = pd.read_csv('/home/al/analysis/gisaid/subs_long_2021-01-25.csv.gz', \n",
    "                   compression='gzip')\n",
    "dels = pd.read_csv('/home/al/analysis/gisaid/dels_long_2021-01-25.csv.gz', \n",
    "                   compression='gzip')"
   ]
  },
  {
   "cell_type": "code",
   "execution_count": 5,
   "metadata": {},
   "outputs": [
    {
     "name": "stdout",
     "output_type": "stream",
     "text": [
      "(6328749, 38)\n",
      "(117950, 44)\n",
      "(6446699, 47)\n"
     ]
    }
   ],
   "source": [
    "print(subs.shape)\n",
    "print(dels.shape)\n",
    "subs['type'] = 'substitution'\n",
    "muts = pd.concat([subs, dels])\n",
    "print(muts.shape)"
   ]
  },
  {
   "cell_type": "code",
   "execution_count": 8,
   "metadata": {},
   "outputs": [],
   "source": [
    "muts_2 = prime_mutation_logic(muts.copy())"
   ]
  },
  {
   "cell_type": "code",
   "execution_count": 9,
   "metadata": {},
   "outputs": [],
   "source": [
    "# pick any two random samples\n",
    "s_x, s_y = np.random.randint(0, muts.shape[0], size=2)\n",
    "\n",
    "s_x = muts.iloc[s_x]['strain']\n",
    "s_y = muts.iloc[s_y]['strain']"
   ]
  },
  {
   "cell_type": "code",
   "execution_count": 11,
   "metadata": {},
   "outputs": [
    {
     "name": "stdout",
     "output_type": "stream",
     "text": [
      "Execution time: 0.09739899635314941 s\n"
     ]
    }
   ],
   "source": [
    "# debugging & profiling\n",
    "start = time.time()\n",
    "get_sample_mutations(muts_2, sample_id=s_x)\n",
    "end = time.time()\n",
    "print(f\"Execution time: {end-start} s\")"
   ]
  },
  {
   "cell_type": "code",
   "execution_count": 12,
   "metadata": {},
   "outputs": [
    {
     "name": "stdout",
     "output_type": "stream",
     "text": [
      "Execution time: 6.325293302536011 s\n"
     ]
    }
   ],
   "source": [
    "# debugging & profiling\n",
    "start = time.time()\n",
    "get_sample_mutations_old(muts, sample_id=s_x)\n",
    "end = time.time()\n",
    "print(f\"Execution time: {end-start} s\")"
   ]
  },
  {
   "cell_type": "code",
   "execution_count": 17,
   "metadata": {},
   "outputs": [
    {
     "name": "stdout",
     "output_type": "stream",
     "text": [
      "Common mutations between samples Chile/MA-194114-B/2020 and USA/MI-UM-10036454184/2020:\n",
      "\n",
      "{'ORF1a:F924F', 'S:D614G', '5UTR:R81C', 'ORF1b:P314L'}\n"
     ]
    }
   ],
   "source": [
    "m_x = get_sample_mutations(muts_2, sample_id=s_x)\n",
    "m_y = get_sample_mutations(muts_2, sample_id=s_y)\n",
    "print(f\"Common mutations between samples {s_x} and {s_y}:\\n\")\n",
    "print(m_x & m_y)"
   ]
  },
  {
   "cell_type": "code",
   "execution_count": 18,
   "metadata": {},
   "outputs": [
    {
     "name": "stdout",
     "output_type": "stream",
     "text": [
      "Mutations found in either samples Chile/MA-194114-B/2020 and USA/MI-UM-10036454184/2020:\n",
      "\n",
      "{'ORF1b:A302S', 'N:P67S', 'ORF1b:P314L', 'ORF1a:F2602F', 'ORF1b:R2613C', '5UTR:R81C', 'S:A924A', 'N:D377Y', 'ORF1b:Y23Y', 'ORF3a:Q57H', 'ORF1a:L3352F', 'S:T307I', 'S:T723T', 'N:S2F', 'ORF1b:N1653D', 'N:P199L', 'ORF1a:N786N', 'S:D614G', 'ORF1b:Y446Y', 'ORF1a:E2940E', 'N:R203K', 'ORF1a:T1250I', 'ORF1a:T265I', 'ORF1b:D412D', 'ORF1a:D3897D', 'ORF3a:G172V', 'ORF1a:T1246I', 'S:E1182Q', 'ORF1a:F924F', 'ORF8:S24L', 'ORF1a:M2606I', 'ORF1a:P4312P', 'ORF7b:L17L', 'N:G204R', 'ORF1a:G3278S', 'ORF1b:L1531L'}\n"
     ]
    }
   ],
   "source": [
    "print(f\"Mutations found in either samples {s_x} and {s_y}:\\n\")\n",
    "print(m_x | m_y)"
   ]
  },
  {
   "cell_type": "code",
   "execution_count": 19,
   "metadata": {},
   "outputs": [
    {
     "name": "stdout",
     "output_type": "stream",
     "text": [
      "Mutations found in sample Chile/MA-194114-B/2020 but NOT in USA/MI-UM-10036454184/2020:\n",
      "\n",
      "{'S:T723T', 'ORF1b:A302S', 'N:S2F', 'ORF1a:F2602F', 'ORF1a:N786N', 'ORF1a:T1246I', 'S:E1182Q', 'S:A924A', 'ORF1a:P4312P', 'N:R203K', 'ORF7b:L17L', 'ORF1a:T1250I', 'N:G204R', 'S:T307I', 'ORF1a:G3278S', 'ORF1b:Y23Y', 'ORF1b:D412D', 'ORF1b:L1531L'}\n"
     ]
    }
   ],
   "source": [
    "print(f\"Mutations found in sample {s_x} but NOT in {s_y}:\\n\")\n",
    "print(m_x - m_y)"
   ]
  },
  {
   "cell_type": "code",
   "execution_count": 20,
   "metadata": {},
   "outputs": [
    {
     "name": "stdout",
     "output_type": "stream",
     "text": [
      "Mutations found in sample USA/MI-UM-10036454184/2020 but NOT in Chile/MA-194114-B/2020:\n",
      "\n",
      "{'ORF1a:D3897D', 'ORF3a:G172V', 'ORF1b:N1653D', 'N:P67S', 'N:P199L', 'ORF3a:Q57H', 'ORF1b:R2613C', 'ORF1b:Y446Y', 'ORF1a:L3352F', 'ORF1a:M2606I', 'ORF1a:E2940E', 'ORF8:S24L', 'N:D377Y', 'ORF1a:T265I'}\n"
     ]
    }
   ],
   "source": [
    "print(f\"Mutations found in sample {s_y} but NOT in {s_x}:\\n\")\n",
    "print(m_y - m_x)"
   ]
  },
  {
   "cell_type": "code",
   "execution_count": null,
   "metadata": {},
   "outputs": [],
   "source": []
  }
 ],
 "metadata": {
  "kernelspec": {
   "display_name": "bjorn",
   "language": "python",
   "name": "bjorn"
  },
  "language_info": {
   "codemirror_mode": {
    "name": "ipython",
    "version": 3
   },
   "file_extension": ".py",
   "mimetype": "text/x-python",
   "name": "python",
   "nbconvert_exporter": "python",
   "pygments_lexer": "ipython3",
   "version": "3.8.3"
  }
 },
 "nbformat": 4,
 "nbformat_minor": 5
}
