{
 "cells": [
  {
   "cell_type": "code",
   "execution_count": 1,
   "metadata": {},
   "outputs": [],
   "source": [
    "import sys\n",
    "import time\n",
    "import json\n",
    "import numpy as np\n",
    "import pandas as pd\n",
    "from Bio import Seq, SeqIO, AlignIO, Phylo, Align\n",
    "\n",
    "\n",
    "import bjorn_support as bs\n",
    "import onion_trees as ot\n",
    "import mutations as bm\n",
    "import visualize as bv\n",
    "import reports as br\n",
    "import data as bd"
   ]
  },
  {
   "cell_type": "code",
   "execution_count": 5,
   "metadata": {},
   "outputs": [
    {
     "ename": "NameError",
     "evalue": "name 'fasta_filepath' is not defined",
     "output_type": "error",
     "traceback": [
      "\u001b[0;31m---------------------------------------------------------------------------\u001b[0m",
      "\u001b[0;31mNameError\u001b[0m                                 Traceback (most recent call last)",
      "\u001b[0;32m<ipython-input-5-10d703c12b6e>\u001b[0m in \u001b[0;36m<module>\u001b[0;34m\u001b[0m\n\u001b[1;32m      2\u001b[0m \u001b[0;31m# FASTA must include reference NC_045512.2\u001b[0m\u001b[0;34m\u001b[0m\u001b[0;34m\u001b[0m\u001b[0;34m\u001b[0m\u001b[0m\n\u001b[1;32m      3\u001b[0m \u001b[0mmsa_filepath\u001b[0m \u001b[0;34m=\u001b[0m \u001b[0;34m'msa.fa'\u001b[0m\u001b[0;34m\u001b[0m\u001b[0;34m\u001b[0m\u001b[0m\n\u001b[0;32m----> 4\u001b[0;31m \u001b[0mbs\u001b[0m\u001b[0;34m.\u001b[0m\u001b[0malign_fasta\u001b[0m\u001b[0;34m(\u001b[0m\u001b[0mfasta_filepath\u001b[0m\u001b[0;34m,\u001b[0m \u001b[0mmsa_filepath\u001b[0m\u001b[0;34m)\u001b[0m\u001b[0;34m;\u001b[0m\u001b[0;34m\u001b[0m\u001b[0;34m\u001b[0m\u001b[0m\n\u001b[0m\u001b[1;32m      5\u001b[0m \u001b[0mmsa_data\u001b[0m \u001b[0;34m=\u001b[0m \u001b[0mbs\u001b[0m\u001b[0;34m.\u001b[0m\u001b[0mload_fasta\u001b[0m\u001b[0;34m(\u001b[0m\u001b[0mmsa_filepath\u001b[0m\u001b[0;34m,\u001b[0m \u001b[0mis_aligned\u001b[0m\u001b[0;34m=\u001b[0m\u001b[0;32mTrue\u001b[0m\u001b[0;34m)\u001b[0m\u001b[0;34m\u001b[0m\u001b[0;34m\u001b[0m\u001b[0m\n\u001b[1;32m      6\u001b[0m \u001b[0;31m# must identify insertions before anything else, otherwise information is lost\u001b[0m\u001b[0;34m\u001b[0m\u001b[0;34m\u001b[0m\u001b[0;34m\u001b[0m\u001b[0m\n",
      "\u001b[0;31mNameError\u001b[0m: name 'fasta_filepath' is not defined"
     ]
    }
   ],
   "source": [
    "t0 = time.time()\n",
    "# FASTA must include reference NC_045512.2\n",
    "msa_filepath = 'msa.fa'\n",
    "bs.align_fasta(fasta_filepath, msa_filepath);\n",
    "msa_data = bs.load_fasta(msa_filepath, is_aligned=True)\n",
    "# must identify insertions before anything else, otherwise information is lost\n",
    "insertions, _ = bm.identify_insertions_per_sample(msa_data)\n",
    "substitutions, _ = bm.identify_replacements_per_sample(msa_data)\n",
    "deletions, _ = bm.identify_deletions_per_sample(msa_data)\n",
    "tf = time.time() - t0\n",
    "print(f\"Execution time: {tf:.3f} seconds)"
   ]
  },
  {
   "cell_type": "code",
   "execution_count": 3,
   "metadata": {},
   "outputs": [
    {
     "name": "stdout",
     "output_type": "stream",
     "text": [
      "Initial cleaning...\n",
      "Identifying mutations...\n",
      "Mapping Genes to mutations...\n",
      "Computing codon numbers...\n",
      "Fetching reference codon...\n",
      "Fetching alternative codon...\n",
      "Mapping amino acids...\n",
      "Naming substitutions\n",
      "Fusing with metadata...\n",
      "Initial cleaning...\n",
      "Identifying deletions...\n",
      "Mapping Genes to mutations...\n",
      "Computing codon numbers...\n",
      "Fetching reference codon...\n",
      "Mapping amino acids...\n",
      "Naming deletions\n",
      "Fuse with metadata...\n"
     ]
    }
   ],
   "source": []
  },
  {
   "cell_type": "code",
   "execution_count": 4,
   "metadata": {},
   "outputs": [
    {
     "data": {
      "text/html": [
       "<div>\n",
       "<style scoped>\n",
       "    .dataframe tbody tr th:only-of-type {\n",
       "        vertical-align: middle;\n",
       "    }\n",
       "\n",
       "    .dataframe tbody tr th {\n",
       "        vertical-align: top;\n",
       "    }\n",
       "\n",
       "    .dataframe thead th {\n",
       "        text-align: right;\n",
       "    }\n",
       "</style>\n",
       "<table border=\"1\" class=\"dataframe\">\n",
       "  <thead>\n",
       "    <tr style=\"text-align: right;\">\n",
       "      <th></th>\n",
       "      <th>idx</th>\n",
       "      <th>sequence</th>\n",
       "      <th>seq_len</th>\n",
       "      <th>ins_positions</th>\n",
       "      <th>ins_len</th>\n",
       "      <th>relative_coords</th>\n",
       "      <th>absolute_coords</th>\n",
       "      <th>pos</th>\n",
       "      <th>gene</th>\n",
       "      <th>codon_num</th>\n",
       "      <th>ref_codon</th>\n",
       "      <th>ref_aa</th>\n",
       "      <th>type</th>\n",
       "      <th>prev_5nts</th>\n",
       "      <th>next_5nts</th>\n",
       "    </tr>\n",
       "  </thead>\n",
       "  <tbody>\n",
       "    <tr>\n",
       "      <th>7</th>\n",
       "      <td>hCoV-19/USA/SEARCH-6250/2020</td>\n",
       "      <td>atggagagccttgtccctggtttcaacgagaaaacacacgtccaac...</td>\n",
       "      <td>29409</td>\n",
       "      <td>[6432]</td>\n",
       "      <td>1</td>\n",
       "      <td>6432:6432</td>\n",
       "      <td>6697:6697</td>\n",
       "      <td>6697</td>\n",
       "      <td>ORF1a</td>\n",
       "      <td>2145</td>\n",
       "      <td>GTT</td>\n",
       "      <td>V</td>\n",
       "      <td>insertion</td>\n",
       "      <td>aagcc</td>\n",
       "      <td>ttttc</td>\n",
       "    </tr>\n",
       "    <tr>\n",
       "      <th>29</th>\n",
       "      <td>hCoV-19/USA/SEARCH-6276/2020</td>\n",
       "      <td>atggagagccttgtccctggtttcaacgagaaaacacacgtccaac...</td>\n",
       "      <td>29409</td>\n",
       "      <td>[10916]</td>\n",
       "      <td>1</td>\n",
       "      <td>10916:10916</td>\n",
       "      <td>11181:11181</td>\n",
       "      <td>11181</td>\n",
       "      <td>ORF1a</td>\n",
       "      <td>3639</td>\n",
       "      <td>CTT</td>\n",
       "      <td>L</td>\n",
       "      <td>insertion</td>\n",
       "      <td>gtttg</td>\n",
       "      <td>ttttt</td>\n",
       "    </tr>\n",
       "    <tr>\n",
       "      <th>56</th>\n",
       "      <td>hCoV-19/USA/SEARCH-6306/2020</td>\n",
       "      <td>atggagagccttgtccctggtttcaacgagaaaacacacgtccaac...</td>\n",
       "      <td>29409</td>\n",
       "      <td>[6239]</td>\n",
       "      <td>1</td>\n",
       "      <td>6239:6239</td>\n",
       "      <td>6504:6504</td>\n",
       "      <td>6504</td>\n",
       "      <td>ORF1a</td>\n",
       "      <td>2080</td>\n",
       "      <td>TTA</td>\n",
       "      <td>L</td>\n",
       "      <td>insertion</td>\n",
       "      <td>ccagc</td>\n",
       "      <td>aaata</td>\n",
       "    </tr>\n",
       "    <tr>\n",
       "      <th>92</th>\n",
       "      <td>hCoV-19/USA/SEARCH-6350/2020</td>\n",
       "      <td>atggagagccttgtccctggtttcaacgagaaaacacacgtccaac...</td>\n",
       "      <td>29409</td>\n",
       "      <td>[21308]</td>\n",
       "      <td>1</td>\n",
       "      <td>21308:21308</td>\n",
       "      <td>21573:21573</td>\n",
       "      <td>21573</td>\n",
       "      <td>S</td>\n",
       "      <td>4</td>\n",
       "      <td>TTT</td>\n",
       "      <td>F</td>\n",
       "      <td>insertion</td>\n",
       "      <td>gtttg</td>\n",
       "      <td>ttttt</td>\n",
       "    </tr>\n",
       "    <tr>\n",
       "      <th>146</th>\n",
       "      <td>hCoV-19/USA/SEARCH-6414/2020</td>\n",
       "      <td>atggagagccttgtccctggtttcaacgagaaaacacacgtccaac...</td>\n",
       "      <td>29409</td>\n",
       "      <td>[27578]</td>\n",
       "      <td>1</td>\n",
       "      <td>27578:27578</td>\n",
       "      <td>27843:27843</td>\n",
       "      <td>27843</td>\n",
       "      <td>ORF7b</td>\n",
       "      <td>30</td>\n",
       "      <td>ACC</td>\n",
       "      <td>T</td>\n",
       "      <td>insertion</td>\n",
       "      <td>ttatc</td>\n",
       "      <td>ttttg</td>\n",
       "    </tr>\n",
       "    <tr>\n",
       "      <th>164</th>\n",
       "      <td>hCoV-19/USA/SEARCH-6434/2020</td>\n",
       "      <td>atggagagccttgtccctggtttcaacgagaaaacacacgtccaac...</td>\n",
       "      <td>29409</td>\n",
       "      <td>[29338, 29339]</td>\n",
       "      <td>2</td>\n",
       "      <td>29338:29339</td>\n",
       "      <td>29603:29604</td>\n",
       "      <td>29603</td>\n",
       "      <td>ORF10</td>\n",
       "      <td>16</td>\n",
       "      <td></td>\n",
       "      <td>nan</td>\n",
       "      <td>insertion</td>\n",
       "      <td>ttacg</td>\n",
       "      <td>atata</td>\n",
       "    </tr>\n",
       "    <tr>\n",
       "      <th>179</th>\n",
       "      <td>hCoV-19/USA/SEARCH-6452/2020</td>\n",
       "      <td>atggagagccttgtccctggtttcaacgagaaaacacacgtccaac...</td>\n",
       "      <td>29409</td>\n",
       "      <td>[27994, 27995]</td>\n",
       "      <td>2</td>\n",
       "      <td>27994:27995</td>\n",
       "      <td>28259:28260</td>\n",
       "      <td>28259</td>\n",
       "      <td>ORF8</td>\n",
       "      <td>123</td>\n",
       "      <td>ATG</td>\n",
       "      <td>M</td>\n",
       "      <td>insertion</td>\n",
       "      <td>agatt</td>\n",
       "      <td>tcatc</td>\n",
       "    </tr>\n",
       "    <tr>\n",
       "      <th>207</th>\n",
       "      <td>hCoV-19/USA/SEARCH-6485/2020</td>\n",
       "      <td>atggagagccttgtccctggtttcaacgagaaaacacacgtccaac...</td>\n",
       "      <td>29409</td>\n",
       "      <td>[21426]</td>\n",
       "      <td>1</td>\n",
       "      <td>21426:21426</td>\n",
       "      <td>21691:21691</td>\n",
       "      <td>21691</td>\n",
       "      <td>S</td>\n",
       "      <td>44</td>\n",
       "      <td>TCT</td>\n",
       "      <td>S</td>\n",
       "      <td>insertion</td>\n",
       "      <td>caaag</td>\n",
       "      <td>ttttc</td>\n",
       "    </tr>\n",
       "    <tr>\n",
       "      <th>207</th>\n",
       "      <td>hCoV-19/USA/SEARCH-6485/2020</td>\n",
       "      <td>atggagagccttgtccctggtttcaacgagaaaacacacgtccaac...</td>\n",
       "      <td>29409</td>\n",
       "      <td>[22313]</td>\n",
       "      <td>1</td>\n",
       "      <td>22313:22313</td>\n",
       "      <td>22578:22578</td>\n",
       "      <td>22578</td>\n",
       "      <td>S</td>\n",
       "      <td>339</td>\n",
       "      <td>TTA</td>\n",
       "      <td>L</td>\n",
       "      <td>insertion</td>\n",
       "      <td>tgccc</td>\n",
       "      <td>ttttg</td>\n",
       "    </tr>\n",
       "    <tr>\n",
       "      <th>237</th>\n",
       "      <td>hCoV-19/USA/SEARCH-6520/2020</td>\n",
       "      <td>atggagagccttgtccctggtttcaacgagaaaacacacgtccaac...</td>\n",
       "      <td>29409</td>\n",
       "      <td>[20839]</td>\n",
       "      <td>1</td>\n",
       "      <td>20839:20839</td>\n",
       "      <td>21104:21104</td>\n",
       "      <td>21104</td>\n",
       "      <td>ORF1b</td>\n",
       "      <td>2546</td>\n",
       "      <td>CCA</td>\n",
       "      <td>P</td>\n",
       "      <td>insertion</td>\n",
       "      <td>gaggg</td>\n",
       "      <td>ttttt</td>\n",
       "    </tr>\n",
       "  </tbody>\n",
       "</table>\n",
       "</div>"
      ],
      "text/plain": [
       "                              idx  \\\n",
       "7    hCoV-19/USA/SEARCH-6250/2020   \n",
       "29   hCoV-19/USA/SEARCH-6276/2020   \n",
       "56   hCoV-19/USA/SEARCH-6306/2020   \n",
       "92   hCoV-19/USA/SEARCH-6350/2020   \n",
       "146  hCoV-19/USA/SEARCH-6414/2020   \n",
       "164  hCoV-19/USA/SEARCH-6434/2020   \n",
       "179  hCoV-19/USA/SEARCH-6452/2020   \n",
       "207  hCoV-19/USA/SEARCH-6485/2020   \n",
       "207  hCoV-19/USA/SEARCH-6485/2020   \n",
       "237  hCoV-19/USA/SEARCH-6520/2020   \n",
       "\n",
       "                                              sequence  seq_len  \\\n",
       "7    atggagagccttgtccctggtttcaacgagaaaacacacgtccaac...    29409   \n",
       "29   atggagagccttgtccctggtttcaacgagaaaacacacgtccaac...    29409   \n",
       "56   atggagagccttgtccctggtttcaacgagaaaacacacgtccaac...    29409   \n",
       "92   atggagagccttgtccctggtttcaacgagaaaacacacgtccaac...    29409   \n",
       "146  atggagagccttgtccctggtttcaacgagaaaacacacgtccaac...    29409   \n",
       "164  atggagagccttgtccctggtttcaacgagaaaacacacgtccaac...    29409   \n",
       "179  atggagagccttgtccctggtttcaacgagaaaacacacgtccaac...    29409   \n",
       "207  atggagagccttgtccctggtttcaacgagaaaacacacgtccaac...    29409   \n",
       "207  atggagagccttgtccctggtttcaacgagaaaacacacgtccaac...    29409   \n",
       "237  atggagagccttgtccctggtttcaacgagaaaacacacgtccaac...    29409   \n",
       "\n",
       "      ins_positions  ins_len relative_coords absolute_coords    pos   gene  \\\n",
       "7            [6432]        1       6432:6432       6697:6697   6697  ORF1a   \n",
       "29          [10916]        1     10916:10916     11181:11181  11181  ORF1a   \n",
       "56           [6239]        1       6239:6239       6504:6504   6504  ORF1a   \n",
       "92          [21308]        1     21308:21308     21573:21573  21573      S   \n",
       "146         [27578]        1     27578:27578     27843:27843  27843  ORF7b   \n",
       "164  [29338, 29339]        2     29338:29339     29603:29604  29603  ORF10   \n",
       "179  [27994, 27995]        2     27994:27995     28259:28260  28259   ORF8   \n",
       "207         [21426]        1     21426:21426     21691:21691  21691      S   \n",
       "207         [22313]        1     22313:22313     22578:22578  22578      S   \n",
       "237         [20839]        1     20839:20839     21104:21104  21104  ORF1b   \n",
       "\n",
       "     codon_num ref_codon ref_aa       type prev_5nts next_5nts  \n",
       "7         2145       GTT      V  insertion     aagcc     ttttc  \n",
       "29        3639       CTT      L  insertion     gtttg     ttttt  \n",
       "56        2080       TTA      L  insertion     ccagc     aaata  \n",
       "92           4       TTT      F  insertion     gtttg     ttttt  \n",
       "146         30       ACC      T  insertion     ttatc     ttttg  \n",
       "164         16              nan  insertion     ttacg     atata  \n",
       "179        123       ATG      M  insertion     agatt     tcatc  \n",
       "207         44       TCT      S  insertion     caaag     ttttc  \n",
       "207        339       TTA      L  insertion     tgccc     ttttg  \n",
       "237       2546       CCA      P  insertion     gaggg     ttttt  "
      ]
     },
     "execution_count": 4,
     "metadata": {},
     "output_type": "execute_result"
    }
   ],
   "source": [
    "insertions"
   ]
  },
  {
   "cell_type": "code",
   "execution_count": 8,
   "metadata": {},
   "outputs": [],
   "source": [
    "# load into dataframe\n",
    "ref_seq = bm.get_seq(msa_data, 'NC_045512.2')[265:29674]\n",
    "insert_positions = bm.identify_insertion_positions(ref_seq)"
   ]
  },
  {
   "cell_type": "code",
   "execution_count": 9,
   "metadata": {},
   "outputs": [
    {
     "data": {
      "text/plain": [
       "[]"
      ]
     },
     "execution_count": 9,
     "metadata": {},
     "output_type": "execute_result"
    }
   ],
   "source": [
    "insert_positions"
   ]
  },
  {
   "cell_type": "code",
   "execution_count": 1,
   "metadata": {},
   "outputs": [
    {
     "data": {
      "text/plain": [
       "'test.fasta'"
      ]
     },
     "execution_count": 1,
     "metadata": {},
     "output_type": "execute_result"
    }
   ],
   "source": [
    "t = 'test.fasta.gz'\n",
    "t[:-3]"
   ]
  },
  {
   "cell_type": "code",
   "execution_count": 20,
   "metadata": {},
   "outputs": [
    {
     "data": {
      "text/plain": [
       "True"
      ]
     },
     "execution_count": 20,
     "metadata": {},
     "output_type": "execute_result"
    }
   ],
   "source": [
    "t = \"False\"\n",
    "bool(t)"
   ]
  },
  {
   "cell_type": "code",
   "execution_count": 2,
   "metadata": {},
   "outputs": [],
   "source": [
    "import plotly\n",
    "import plotly.express as px\n",
    "import plotly.graph_objects as go\n",
    "from plotly.subplots import make_subplots"
   ]
  },
  {
   "cell_type": "code",
   "execution_count": 3,
   "metadata": {},
   "outputs": [],
   "source": [
    "ref_path = '/home/al/data/hcov19/NC045512.fasta'\n",
    "in_fasta_path = '/valhalla/gisaid/sequences_2021-01-28_09-27.fasta'\n",
    "out_fasta_path = '/valhalla/gisaid/sequences_2021-01-28.fasta'\n",
    "out_sam_path = '/valhalla/gisaid/sequences_2021-01-28.sam'\n",
    "out_algn_path = '/valhalla/gisaid/sequences_2021-01-28_aligned.fasta'"
   ]
  },
  {
   "cell_type": "code",
   "execution_count": 14,
   "metadata": {},
   "outputs": [],
   "source": [
    "# TEST: concat_fasta()\n",
    "## Test before concat\n",
    "seqs = bs.load_fasta(in_fasta_path)\n",
    "test = [rec for rec in seqs if rec.id=='NC_045512.2']\n",
    "assert len(test)==0, f'ERROR: The reference at {ref_path} was already found in {in_fasta_path}. Cannot run test'"
   ]
  },
  {
   "cell_type": "code",
   "execution_count": 4,
   "metadata": {},
   "outputs": [
    {
     "data": {
      "text/plain": [
       "'/valhalla/gisaid/sequences_2021-01-28.fasta'"
      ]
     },
     "execution_count": 4,
     "metadata": {},
     "output_type": "execute_result"
    }
   ],
   "source": [
    "bs.concat_fasta_2([in_fasta_path, ref_path], out_fasta_path)"
   ]
  },
  {
   "cell_type": "code",
   "execution_count": 7,
   "metadata": {},
   "outputs": [],
   "source": [
    "## Test after concat\n",
    "seqs = bs.load_fasta(out_fasta_path)\n",
    "test = [rec for rec in seqs if rec.id=='NC_045512.2']\n",
    "assert len(test)==1, f'ERROR: The reference at {ref_path} was NOT found after concatenation. Something is off'"
   ]
  },
  {
   "cell_type": "code",
   "execution_count": 1,
   "metadata": {},
   "outputs": [],
   "source": [
    "bs.run_minimap2(out_fasta_path, out_sam_path, ref_path)"
   ]
  },
  {
   "cell_type": "code",
   "execution_count": 5,
   "metadata": {},
   "outputs": [],
   "source": [
    "df = pd.read_csv('/Users/al/Documents/scripps/analysis/gisaid/subs_long_2021-01-01.csv.gz', compression='gzip')"
   ]
  },
  {
   "cell_type": "code",
   "execution_count": 7,
   "metadata": {},
   "outputs": [
    {
     "data": {
      "text/html": [
       "<div>\n",
       "<style scoped>\n",
       "    .dataframe tbody tr th:only-of-type {\n",
       "        vertical-align: middle;\n",
       "    }\n",
       "\n",
       "    .dataframe tbody tr th {\n",
       "        vertical-align: top;\n",
       "    }\n",
       "\n",
       "    .dataframe thead th {\n",
       "        text-align: right;\n",
       "    }\n",
       "</style>\n",
       "<table border=\"1\" class=\"dataframe\">\n",
       "  <thead>\n",
       "    <tr style=\"text-align: right;\">\n",
       "      <th></th>\n",
       "      <th>idx</th>\n",
       "      <th>mutation</th>\n",
       "    </tr>\n",
       "  </thead>\n",
       "  <tbody>\n",
       "    <tr>\n",
       "      <th>0</th>\n",
       "      <td>Netherlands/Utrecht_1363564/2020</td>\n",
       "      <td>5UTR:R81C</td>\n",
       "    </tr>\n",
       "    <tr>\n",
       "      <th>1</th>\n",
       "      <td>Netherlands/Utrecht_1363564/2020</td>\n",
       "      <td>ORF1a:E754D</td>\n",
       "    </tr>\n",
       "    <tr>\n",
       "      <th>2</th>\n",
       "      <td>Netherlands/Utrecht_1363564/2020</td>\n",
       "      <td>ORF1a:F924F</td>\n",
       "    </tr>\n",
       "    <tr>\n",
       "      <th>3</th>\n",
       "      <td>Netherlands/Utrecht_1363564/2020</td>\n",
       "      <td>ORF1a:A1314T</td>\n",
       "    </tr>\n",
       "    <tr>\n",
       "      <th>4</th>\n",
       "      <td>Netherlands/Utrecht_1363564/2020</td>\n",
       "      <td>ORF1a:P2055S</td>\n",
       "    </tr>\n",
       "  </tbody>\n",
       "</table>\n",
       "</div>"
      ],
      "text/plain": [
       "                                idx      mutation\n",
       "0  Netherlands/Utrecht_1363564/2020     5UTR:R81C\n",
       "1  Netherlands/Utrecht_1363564/2020   ORF1a:E754D\n",
       "2  Netherlands/Utrecht_1363564/2020   ORF1a:F924F\n",
       "3  Netherlands/Utrecht_1363564/2020  ORF1a:A1314T\n",
       "4  Netherlands/Utrecht_1363564/2020  ORF1a:P2055S"
      ]
     },
     "execution_count": 7,
     "metadata": {},
     "output_type": "execute_result"
    }
   ],
   "source": [
    "df.head()[['idx', 'mutation']]"
   ]
  },
  {
   "cell_type": "code",
   "execution_count": null,
   "metadata": {},
   "outputs": [],
   "source": []
  },
  {
   "cell_type": "code",
   "execution_count": null,
   "metadata": {},
   "outputs": [],
   "source": []
  },
  {
   "cell_type": "code",
   "execution_count": 4,
   "metadata": {},
   "outputs": [],
   "source": [
    "date = '2021-01-26'\n",
    "countries_fp = '/home/al/data/geojsons/countries.geo.json'\n",
    "states_fp = '/home/al/data/geojsons/us-states.json'\n",
    "subs = pd.read_csv('/home/al/analysis/gisaid/subs_long_2021-01-25.csv.gz', \n",
    "                   compression='gzip')\n",
    "dels = pd.read_csv('/home/al/analysis/gisaid/dels_long_2021-01-25.csv.gz', \n",
    "                   compression='gzip')"
   ]
  },
  {
   "cell_type": "code",
   "execution_count": 5,
   "metadata": {},
   "outputs": [
    {
     "name": "stdout",
     "output_type": "stream",
     "text": [
      "(6328749, 38)\n",
      "(117950, 44)\n",
      "(6446699, 47)\n"
     ]
    }
   ],
   "source": [
    "print(subs.shape)\n",
    "print(dels.shape)\n",
    "subs['type'] = 'substitution'\n",
    "muts = pd.concat([subs, dels])\n",
    "print(muts.shape)"
   ]
  },
  {
   "cell_type": "code",
   "execution_count": 8,
   "metadata": {},
   "outputs": [],
   "source": [
    "muts_2 = prime_mutation_logic(muts.copy())"
   ]
  },
  {
   "cell_type": "code",
   "execution_count": 9,
   "metadata": {},
   "outputs": [],
   "source": [
    "# pick any two random samples\n",
    "s_x, s_y = np.random.randint(0, muts.shape[0], size=2)\n",
    "\n",
    "s_x = muts.iloc[s_x]['strain']\n",
    "s_y = muts.iloc[s_y]['strain']"
   ]
  },
  {
   "cell_type": "code",
   "execution_count": 11,
   "metadata": {},
   "outputs": [
    {
     "name": "stdout",
     "output_type": "stream",
     "text": [
      "Execution time: 0.09739899635314941 s\n"
     ]
    }
   ],
   "source": [
    "# debugging & profiling\n",
    "start = time.time()\n",
    "get_sample_mutations(muts_2, sample_id=s_x)\n",
    "end = time.time()\n",
    "print(f\"Execution time: {end-start} s\")"
   ]
  },
  {
   "cell_type": "code",
   "execution_count": 12,
   "metadata": {},
   "outputs": [
    {
     "name": "stdout",
     "output_type": "stream",
     "text": [
      "Execution time: 6.325293302536011 s\n"
     ]
    }
   ],
   "source": [
    "# debugging & profiling\n",
    "start = time.time()\n",
    "get_sample_mutations_old(muts, sample_id=s_x)\n",
    "end = time.time()\n",
    "print(f\"Execution time: {end-start} s\")"
   ]
  },
  {
   "cell_type": "code",
   "execution_count": 17,
   "metadata": {},
   "outputs": [
    {
     "name": "stdout",
     "output_type": "stream",
     "text": [
      "Common mutations between samples Chile/MA-194114-B/2020 and USA/MI-UM-10036454184/2020:\n",
      "\n",
      "{'ORF1a:F924F', 'S:D614G', '5UTR:R81C', 'ORF1b:P314L'}\n"
     ]
    }
   ],
   "source": [
    "m_x = get_sample_mutations(muts_2, sample_id=s_x)\n",
    "m_y = get_sample_mutations(muts_2, sample_id=s_y)\n",
    "print(f\"Common mutations between samples {s_x} and {s_y}:\\n\")\n",
    "print(m_x & m_y)"
   ]
  },
  {
   "cell_type": "code",
   "execution_count": 18,
   "metadata": {},
   "outputs": [
    {
     "name": "stdout",
     "output_type": "stream",
     "text": [
      "Mutations found in either samples Chile/MA-194114-B/2020 and USA/MI-UM-10036454184/2020:\n",
      "\n",
      "{'ORF1b:A302S', 'N:P67S', 'ORF1b:P314L', 'ORF1a:F2602F', 'ORF1b:R2613C', '5UTR:R81C', 'S:A924A', 'N:D377Y', 'ORF1b:Y23Y', 'ORF3a:Q57H', 'ORF1a:L3352F', 'S:T307I', 'S:T723T', 'N:S2F', 'ORF1b:N1653D', 'N:P199L', 'ORF1a:N786N', 'S:D614G', 'ORF1b:Y446Y', 'ORF1a:E2940E', 'N:R203K', 'ORF1a:T1250I', 'ORF1a:T265I', 'ORF1b:D412D', 'ORF1a:D3897D', 'ORF3a:G172V', 'ORF1a:T1246I', 'S:E1182Q', 'ORF1a:F924F', 'ORF8:S24L', 'ORF1a:M2606I', 'ORF1a:P4312P', 'ORF7b:L17L', 'N:G204R', 'ORF1a:G3278S', 'ORF1b:L1531L'}\n"
     ]
    }
   ],
   "source": [
    "print(f\"Mutations found in either samples {s_x} and {s_y}:\\n\")\n",
    "print(m_x | m_y)"
   ]
  },
  {
   "cell_type": "code",
   "execution_count": 19,
   "metadata": {},
   "outputs": [
    {
     "name": "stdout",
     "output_type": "stream",
     "text": [
      "Mutations found in sample Chile/MA-194114-B/2020 but NOT in USA/MI-UM-10036454184/2020:\n",
      "\n",
      "{'S:T723T', 'ORF1b:A302S', 'N:S2F', 'ORF1a:F2602F', 'ORF1a:N786N', 'ORF1a:T1246I', 'S:E1182Q', 'S:A924A', 'ORF1a:P4312P', 'N:R203K', 'ORF7b:L17L', 'ORF1a:T1250I', 'N:G204R', 'S:T307I', 'ORF1a:G3278S', 'ORF1b:Y23Y', 'ORF1b:D412D', 'ORF1b:L1531L'}\n"
     ]
    }
   ],
   "source": [
    "print(f\"Mutations found in sample {s_x} but NOT in {s_y}:\\n\")\n",
    "print(m_x - m_y)"
   ]
  },
  {
   "cell_type": "code",
   "execution_count": 20,
   "metadata": {},
   "outputs": [
    {
     "name": "stdout",
     "output_type": "stream",
     "text": [
      "Mutations found in sample USA/MI-UM-10036454184/2020 but NOT in Chile/MA-194114-B/2020:\n",
      "\n",
      "{'ORF1a:D3897D', 'ORF3a:G172V', 'ORF1b:N1653D', 'N:P67S', 'N:P199L', 'ORF3a:Q57H', 'ORF1b:R2613C', 'ORF1b:Y446Y', 'ORF1a:L3352F', 'ORF1a:M2606I', 'ORF1a:E2940E', 'ORF8:S24L', 'N:D377Y', 'ORF1a:T265I'}\n"
     ]
    }
   ],
   "source": [
    "print(f\"Mutations found in sample {s_y} but NOT in {s_x}:\\n\")\n",
    "print(m_y - m_x)"
   ]
  },
  {
   "cell_type": "code",
   "execution_count": null,
   "metadata": {},
   "outputs": [],
   "source": []
  }
 ],
 "metadata": {
  "kernelspec": {
   "display_name": "bjorn",
   "language": "python",
   "name": "bjorn"
  },
  "language_info": {
   "codemirror_mode": {
    "name": "ipython",
    "version": 3
   },
   "file_extension": ".py",
   "mimetype": "text/x-python",
   "name": "python",
   "nbconvert_exporter": "python",
   "pygments_lexer": "ipython3",
   "version": "3.8.3"
  }
 },
 "nbformat": 4,
 "nbformat_minor": 5
}
