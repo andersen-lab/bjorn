{
 "cells": [
  {
   "cell_type": "code",
   "execution_count": 1,
   "metadata": {},
   "outputs": [],
   "source": [
    "import sys\n",
    "import time\n",
    "import json\n",
    "import numpy as np\n",
    "import pandas as pd\n",
    "\n",
    "import bjorn_support as bs\n",
    "import onion_trees as ot\n",
    "import mutations as bm\n",
    "import visualize as bv\n",
    "import reports as br\n",
    "import data as bd"
   ]
  },
  {
   "cell_type": "code",
   "execution_count": 2,
   "metadata": {},
   "outputs": [],
   "source": [
    "date = '2021-02-21'\n",
    "unknown_val = 'None'"
   ]
  },
  {
   "cell_type": "code",
   "execution_count": 3,
   "metadata": {},
   "outputs": [
    {
     "name": "stderr",
     "output_type": "stream",
     "text": [
      "/home/al/anaconda3/lib/python3.8/site-packages/IPython/core/interactiveshell.py:3146: DtypeWarning: Columns (18) have mixed types.Specify dtype option on import or set low_memory=False.\n",
      "  has_raised = await self.run_ast_nodes(code_ast.body, cell_name,\n",
      "/home/al/anaconda3/lib/python3.8/site-packages/IPython/core/interactiveshell.py:3146: DtypeWarning: Columns (25) have mixed types.Specify dtype option on import or set low_memory=False.\n",
      "  has_raised = await self.run_ast_nodes(code_ast.body, cell_name,\n"
     ]
    }
   ],
   "source": [
    "countries_fp = '/home/al/data/geojsons/gadm_countries.json'\n",
    "states_fp = '/home/al/data/geojsons/gadm_divisions.json'\n",
    "locations_fp = '/home/al/data/geojsons/gadm_locations.json'\n",
    "subs = pd.read_csv(f'/valhalla/gisaid/subs_long_{date}.csv.gz', \n",
    "                   compression='gzip')\n",
    "dels = pd.read_csv(f'/valhalla/gisaid/dels_long_{date}.csv.gz', \n",
    "                   compression='gzip')"
   ]
  },
  {
   "cell_type": "code",
   "execution_count": 4,
   "metadata": {},
   "outputs": [],
   "source": [
    "# cols = ['mutation', 'strain', 'country', 'division', 'location', 'date_collected', 'absolute_coords', 'del_len']"
   ]
  },
  {
   "cell_type": "code",
   "execution_count": 5,
   "metadata": {},
   "outputs": [],
   "source": [
    "dels['pos'] = dels['absolute_coords'].apply(lambda x: int(x.split(':')[0]))\n",
    "dels['ref_codon'] = dels['del_seq'].copy()"
   ]
  },
  {
   "cell_type": "code",
   "execution_count": 6,
   "metadata": {},
   "outputs": [],
   "source": [
    "dels['gene_start_pos'] = dels['gene'].apply(lambda x: bd.GENE2POS[x]['start']+2)"
   ]
  },
  {
   "cell_type": "code",
   "execution_count": 7,
   "metadata": {},
   "outputs": [],
   "source": [
    "dels['pos_in_codon'] = (dels['pos'] - dels['gene_start_pos']) % 3"
   ]
  },
  {
   "cell_type": "code",
   "execution_count": 8,
   "metadata": {},
   "outputs": [
    {
     "data": {
      "text/plain": [
       "2    131881\n",
       "0    112605\n",
       "1     98030\n",
       "Name: pos_in_codon, dtype: int64"
      ]
     },
     "execution_count": 8,
     "metadata": {},
     "output_type": "execute_result"
    }
   ],
   "source": [
    "# Relative positions in codon counts [internal]\n",
    "dels['pos_in_codon'].value_counts()"
   ]
  },
  {
   "cell_type": "code",
   "execution_count": 9,
   "metadata": {},
   "outputs": [],
   "source": [
    "def assign_deletion_codon_coords(x):\n",
    "    if (x['pos_in_codon'] + x['del_len']) <= 3:\n",
    "        return x['gene'] + ':DEL' + str(x['codon_num'] + (x['pos_in_codon']/3))\n",
    "    deletion = x['gene'] + ':DEL' + str(x['codon_num'] + (x['pos_in_codon']/3))\\\n",
    "               + '/' + str(x['codon_num'] + (1 + (x['pos_in_codon']/3))\\\n",
    "               + (x['del_len']/3) - 1)\n",
    "    return deletion"
   ]
  },
  {
   "cell_type": "code",
   "execution_count": 10,
   "metadata": {},
   "outputs": [],
   "source": [
    "def assign_deletion(x):\n",
    "    if (x['pos_in_codon'] + x['del_len']) <= 3:\n",
    "        return x['gene'] + ':DEL' + str(x['codon_num'])\n",
    "    deletion = x['gene'] + ':DEL' + str(x['codon_num']) + '/' + str(x['codon_num'] + (x['del_len']//3) - 1)\n",
    "    return deletion"
   ]
  },
  {
   "cell_type": "code",
   "execution_count": 11,
   "metadata": {},
   "outputs": [],
   "source": [
    "dels['mutation'] = dels[['pos_in_codon', 'gene', 'codon_num', 'del_len']].apply(assign_deletion, axis=1)\n",
    "# dels['mutation'].value_counts()"
   ]
  },
  {
   "cell_type": "code",
   "execution_count": 12,
   "metadata": {},
   "outputs": [],
   "source": [
    "dels['deletion_codon_coords'] = dels[['pos_in_codon', 'gene', 'codon_num', 'del_len']].apply(assign_deletion_codon_coords, axis=1)"
   ]
  },
  {
   "cell_type": "code",
   "execution_count": 13,
   "metadata": {},
   "outputs": [],
   "source": [
    "# dels['mutation'] = dels['mutation'].apply(lambda x: x.split('.')[0])"
   ]
  },
  {
   "cell_type": "code",
   "execution_count": 14,
   "metadata": {},
   "outputs": [],
   "source": [
    "def is_frameshift(x):\n",
    "    if x % 3 == 0:\n",
    "        return False\n",
    "    return True\n",
    "dels['is_frameshift'] = dels['del_len'].apply(is_frameshift)"
   ]
  },
  {
   "cell_type": "code",
   "execution_count": 15,
   "metadata": {},
   "outputs": [
    {
     "name": "stdout",
     "output_type": "stream",
     "text": [
      "(10368708, 26)\n",
      "(342516, 34)\n",
      "(10711224, 38)\n"
     ]
    }
   ],
   "source": [
    "print(subs.shape)\n",
    "print(dels.shape)\n",
    "subs['type'] = 'substitution'\n",
    "muts = pd.concat([subs, dels])\n",
    "print(muts.shape)"
   ]
  },
  {
   "cell_type": "code",
   "execution_count": 20,
   "metadata": {},
   "outputs": [],
   "source": [
    "muts['country'] = muts['country'].astype(str)\n",
    "muts['country_lower'] = muts['country'].str.lower()\n",
    "muts['country_normed'] = muts['country_normed'].astype(str)\n",
    "muts['country_normed_lower'] = muts['country_normed'].str.lower()\n",
    "muts['division'] = muts['division'].astype(str)\n",
    "muts['division_lower'] = muts['division'].str.lower()\n",
    "muts['division_normed'] = muts['division_normed'].astype(str)\n",
    "muts['division_normed_lower'] = muts['division_normed'].str.lower()\n",
    "muts['location'] = muts['location'].astype(str)\n",
    "muts['location_lower'] = muts['location'].str.lower()\n",
    "muts['location_normed'] = muts['location_normed'].astype(str)\n",
    "muts['location_normed_lower'] = muts['location_normed'].str.lower()"
   ]
  },
  {
   "cell_type": "code",
   "execution_count": 21,
   "metadata": {},
   "outputs": [
    {
     "data": {
      "text/plain": [
       "United Kingdom                      5229292\n",
       "United States                       1882498\n",
       "Denmark                              936762\n",
       "Switzerland                          263012\n",
       "Japan                                254614\n",
       "                                     ...   \n",
       "Saint Vincent and the Grenadines         11\n",
       "Cuba                                     11\n",
       "Uzbekistan                                7\n",
       "Andorra                                   4\n",
       "belgium                                   3\n",
       "Name: country_normed, Length: 158, dtype: int64"
      ]
     },
     "execution_count": 21,
     "metadata": {},
     "output_type": "execute_result"
    }
   ],
   "source": [
    "muts['country_normed'].value_counts()"
   ]
  },
  {
   "cell_type": "code",
   "execution_count": 22,
   "metadata": {},
   "outputs": [],
   "source": [
    "# muts.loc[muts['pangolin_lineage'].isin(['B.1.427'])].sort_values('date', ascending=True)[['idx', 'date', 'date_submitted', 'division', 'originating_lab']]"
   ]
  },
  {
   "cell_type": "code",
   "execution_count": 23,
   "metadata": {},
   "outputs": [
    {
     "data": {
      "text/plain": [
       "Index(['idx', 'replacements', 'pos', 'gene', 'gene_start_pos', 'codon_num',\n",
       "       'codon_start', 'ref_codon', 'alt_codon', 'ref_aa', 'alt_aa', 'mutation',\n",
       "       'strain', 'covsurver_prot_mutations', 'location', 'pangolin_lineage',\n",
       "       'date_collected', 'accession_id', 'pangolin_version', 'clade',\n",
       "       'date_submitted', 'country', 'division', 'country_normed',\n",
       "       'division_normed', 'location_normed', 'type', 'seq_len',\n",
       "       'del_positions', 'del_len', 'relative_coords', 'absolute_coords',\n",
       "       'del_seq', 'prev_5nts', 'next_5nts', 'pos_in_codon',\n",
       "       'deletion_codon_coords', 'is_frameshift', 'country_lower',\n",
       "       'country_normed_lower', 'division_lower', 'division_normed_lower',\n",
       "       'location_lower', 'location_normed_lower'],\n",
       "      dtype='object')"
      ]
     },
     "execution_count": 23,
     "metadata": {},
     "output_type": "execute_result"
    }
   ],
   "source": [
    "muts.columns"
   ]
  },
  {
   "cell_type": "code",
   "execution_count": 24,
   "metadata": {},
   "outputs": [],
   "source": [
    "muts['tmp'] = muts['date_collected'].str.split('-')\n",
    "muts = muts[muts['tmp'].str.len()>=2]\n",
    "muts.loc[muts['tmp'].str.len()==2, 'date_collected'] += '-15'\n",
    "muts['date_collected'] = pd.to_datetime(muts['date_collected'], errors='coerce')\n",
    "muts = muts[muts['date_collected']<date]"
   ]
  },
  {
   "cell_type": "code",
   "execution_count": 25,
   "metadata": {},
   "outputs": [],
   "source": [
    "# muts.loc[muts['tmp'].str.len()==2, 'date']"
   ]
  },
  {
   "cell_type": "code",
   "execution_count": 26,
   "metadata": {},
   "outputs": [],
   "source": [
    "muts['date_collected'] = muts['date_collected'].astype(str)"
   ]
  },
  {
   "cell_type": "code",
   "execution_count": 27,
   "metadata": {},
   "outputs": [],
   "source": [
    "# muts['date'].max()"
   ]
  },
  {
   "cell_type": "code",
   "execution_count": 28,
   "metadata": {},
   "outputs": [
    {
     "data": {
      "text/plain": [
       "'2021-02-19'"
      ]
     },
     "execution_count": 28,
     "metadata": {},
     "output_type": "execute_result"
    }
   ],
   "source": [
    "muts['date_collected'].max()"
   ]
  },
  {
   "cell_type": "code",
   "execution_count": 29,
   "metadata": {},
   "outputs": [
    {
     "data": {
      "text/html": [
       "<div>\n",
       "<style scoped>\n",
       "    .dataframe tbody tr th:only-of-type {\n",
       "        vertical-align: middle;\n",
       "    }\n",
       "\n",
       "    .dataframe tbody tr th {\n",
       "        vertical-align: top;\n",
       "    }\n",
       "\n",
       "    .dataframe thead th {\n",
       "        text-align: right;\n",
       "    }\n",
       "</style>\n",
       "<table border=\"1\" class=\"dataframe\">\n",
       "  <thead>\n",
       "    <tr style=\"text-align: right;\">\n",
       "      <th></th>\n",
       "      <th>date_collected</th>\n",
       "      <th>num_samples</th>\n",
       "    </tr>\n",
       "  </thead>\n",
       "  <tbody>\n",
       "  </tbody>\n",
       "</table>\n",
       "</div>"
      ],
      "text/plain": [
       "Empty DataFrame\n",
       "Columns: [date_collected, num_samples]\n",
       "Index: []"
      ]
     },
     "execution_count": 29,
     "metadata": {},
     "output_type": "execute_result"
    }
   ],
   "source": [
    "test = muts.groupby('date_collected').agg(num_samples=('strain', 'nunique')).reset_index()\n",
    "test[test.duplicated(subset=['date_collected'])]"
   ]
  },
  {
   "cell_type": "code",
   "execution_count": 30,
   "metadata": {},
   "outputs": [
    {
     "data": {
      "text/plain": [
       "29        2020-03-23\n",
       "30        2020-03-23\n",
       "31        2020-03-23\n",
       "32        2020-03-23\n",
       "33        2020-03-23\n",
       "             ...    \n",
       "342511    2021-02-11\n",
       "342512    2021-02-06\n",
       "342513    2021-02-06\n",
       "342514    2021-02-08\n",
       "342515    2020-02-18\n",
       "Name: date_collected, Length: 10579337, dtype: object"
      ]
     },
     "execution_count": 30,
     "metadata": {},
     "output_type": "execute_result"
    }
   ],
   "source": [
    "muts['date_collected']"
   ]
  },
  {
   "cell_type": "code",
   "execution_count": 31,
   "metadata": {},
   "outputs": [],
   "source": [
    "with open(countries_fp) as f:\n",
    "    countries = json.load(f)\n",
    "muts['country_id'] = muts['country_normed'].apply(lambda x: countries.get(x, unknown_val))\n",
    "with open(states_fp) as f:\n",
    "    states = json.load(f)\n",
    "muts['division_id'] = muts['division_normed'].apply(lambda x: states.get(x, unknown_val))\n",
    "with open(locations_fp) as f:\n",
    "    locations = json.load(f)\n",
    "muts['location_id'] = muts['location_normed'].apply(lambda x: locations.get(x, unknown_val))"
   ]
  },
  {
   "cell_type": "code",
   "execution_count": 65,
   "metadata": {},
   "outputs": [],
   "source": [
    "muts.rename(columns={\n",
    "#     'date': 'date_collected',\n",
    "#     'GISAID_clade': 'gisaid_clade',\n",
    "#     'Nextstrain_clade': 'nextstrain_clade',\n",
    "    'country': 'country_original',\n",
    "    'division': 'division_original',\n",
    "    'location': 'location_original',\n",
    "    'country_lower': 'country_original_lower',\n",
    "    'division_lower': 'division_original_lower',\n",
    "    'location_lower': 'location_original_lower',\n",
    "    'country_normed': 'country',\n",
    "    'division_normed': 'division',\n",
    "    'location_normed': 'location',\n",
    "    'country_normed_lower': 'country_lower',\n",
    "    'division_normed_lower': 'division_lower',\n",
    "    'location_normed_lower': 'location_lower',\n",
    "    'del_len': 'change_length_nt'\n",
    "    }, inplace=True)"
   ]
  },
  {
   "cell_type": "code",
   "execution_count": 66,
   "metadata": {},
   "outputs": [
    {
     "data": {
      "text/plain": [
       "Index(['idx', 'replacements', 'pos', 'gene', 'gene_start_pos', 'codon_num',\n",
       "       'codon_start', 'ref_codon', 'alt_codon', 'ref_aa', 'alt_aa', 'mutation',\n",
       "       'strain', 'covsurver_prot_mutations', 'location_original',\n",
       "       'pangolin_lineage', 'date_collected', 'accession_id',\n",
       "       'pangolin_version', 'clade', 'date_submitted', 'country_original',\n",
       "       'division_original', 'country', 'division', 'location', 'type',\n",
       "       'seq_len', 'del_positions', 'change_length_nt', 'relative_coords',\n",
       "       'absolute_coords', 'del_seq', 'prev_5nts', 'next_5nts', 'pos_in_codon',\n",
       "       'deletion_codon_coords', 'is_frameshift', 'country_original_lower',\n",
       "       'country_lower', 'division_original_lower', 'division_lower',\n",
       "       'location_original_lower', 'location_lower', 'tmp', 'country_id',\n",
       "       'division_id', 'location_id', 'date_modified', 'is_synonymous'],\n",
       "      dtype='object')"
      ]
     },
     "execution_count": 66,
     "metadata": {},
     "output_type": "execute_result"
    }
   ],
   "source": [
    "muts.columns"
   ]
  },
  {
   "cell_type": "code",
   "execution_count": 67,
   "metadata": {},
   "outputs": [],
   "source": [
    "# muts['nt_map_coords'] = muts[['gene', 'pos']].apply(bs.compute_acc_nt_pos, \n",
    "#                             args=(bd.GENE2NTCOORDS,), \n",
    "#                             axis=1)"
   ]
  },
  {
   "cell_type": "code",
   "execution_count": 68,
   "metadata": {},
   "outputs": [],
   "source": [
    "# muts['aa_map_coords'] = muts[['gene', 'codon_num']].apply(bs.compute_acc_aa_pos, \n",
    "#                             args=(bd.GENE2AACOORDS,), \n",
    "#                             axis=1)"
   ]
  },
  {
   "cell_type": "code",
   "execution_count": 69,
   "metadata": {},
   "outputs": [],
   "source": [
    "muts['date_modified'] = date"
   ]
  },
  {
   "cell_type": "code",
   "execution_count": 70,
   "metadata": {},
   "outputs": [],
   "source": [
    "muts['is_synonymous'] = False\n",
    "muts.loc[muts['ref_aa']==muts['alt_aa'], 'is_synonymous'] = True"
   ]
  },
  {
   "cell_type": "code",
   "execution_count": 71,
   "metadata": {},
   "outputs": [],
   "source": [
    "muts.loc[muts['location']=='unk', 'location'] = unknown_val\n",
    "# muts.loc[muts['purpose_of_sequencing']=='?', 'purpose_of_sequencing'] = unknown_val\n",
    "# muts.loc[muts['genbank_accession']=='?', 'genbank_accession'] = unknown_val"
   ]
  },
  {
   "cell_type": "code",
   "execution_count": 72,
   "metadata": {},
   "outputs": [],
   "source": [
    "muts.fillna(unknown_val, inplace=True)"
   ]
  },
  {
   "cell_type": "code",
   "execution_count": 73,
   "metadata": {},
   "outputs": [],
   "source": [
    "muts.loc[muts['division']==muts['country'], 'division'] = unknown_val"
   ]
  },
  {
   "cell_type": "code",
   "execution_count": 74,
   "metadata": {},
   "outputs": [],
   "source": [
    "sample_ids = muts[['strain']].drop_duplicates().sample(10)['strain'].unique()\n",
    "test = muts[muts['strain'].isin(sample_ids)]"
   ]
  },
  {
   "cell_type": "code",
   "execution_count": 75,
   "metadata": {},
   "outputs": [
    {
     "name": "stdout",
     "output_type": "stream",
     "text": [
      "(10579337, 50)\n",
      "(10579337, 50)\n"
     ]
    }
   ],
   "source": [
    "print(muts.shape)\n",
    "# muts.drop_duplicates(subset=['strain', 'mutation'], inplace=True)\n",
    "print(muts.shape)"
   ]
  },
  {
   "cell_type": "code",
   "execution_count": 76,
   "metadata": {},
   "outputs": [
    {
     "data": {
      "text/plain": [
       "29        2020-03-23\n",
       "30        2020-03-23\n",
       "31        2020-03-23\n",
       "32        2020-03-23\n",
       "33        2020-03-23\n",
       "             ...    \n",
       "342511    2021-02-11\n",
       "342512    2021-02-06\n",
       "342513    2021-02-06\n",
       "342514    2021-02-08\n",
       "342515    2020-02-18\n",
       "Name: date_collected, Length: 10579337, dtype: object"
      ]
     },
     "execution_count": 76,
     "metadata": {},
     "output_type": "execute_result"
    }
   ],
   "source": [
    "muts['date_collected']"
   ]
  },
  {
   "cell_type": "code",
   "execution_count": 77,
   "metadata": {},
   "outputs": [],
   "source": [
    "# muts.loc[muts['country']==muts['division']]"
   ]
  },
  {
   "cell_type": "code",
   "execution_count": 78,
   "metadata": {},
   "outputs": [
    {
     "data": {
      "text/plain": [
       "Index(['idx', 'replacements', 'pos', 'gene', 'gene_start_pos', 'codon_num',\n",
       "       'codon_start', 'ref_codon', 'alt_codon', 'ref_aa', 'alt_aa', 'mutation',\n",
       "       'strain', 'covsurver_prot_mutations', 'location_original',\n",
       "       'pangolin_lineage', 'date_collected', 'accession_id',\n",
       "       'pangolin_version', 'clade', 'date_submitted', 'country_original',\n",
       "       'division_original', 'country', 'division', 'location', 'type',\n",
       "       'seq_len', 'del_positions', 'change_length_nt', 'relative_coords',\n",
       "       'absolute_coords', 'del_seq', 'prev_5nts', 'next_5nts', 'pos_in_codon',\n",
       "       'deletion_codon_coords', 'is_frameshift', 'country_original_lower',\n",
       "       'country_lower', 'division_original_lower', 'division_lower',\n",
       "       'location_original_lower', 'location_lower', 'tmp', 'country_id',\n",
       "       'division_id', 'location_id', 'date_modified', 'is_synonymous'],\n",
       "      dtype='object')"
      ]
     },
     "execution_count": 78,
     "metadata": {},
     "output_type": "execute_result"
    }
   ],
   "source": [
    "muts.columns"
   ]
  },
  {
   "cell_type": "code",
   "execution_count": 96,
   "metadata": {},
   "outputs": [],
   "source": [
    "meta_info = [\n",
    "        'strain', 'accession_id',\n",
    "        'date_modified', 'date_collected', 'date_submitted',\n",
    "        'country_id', 'country', 'country_original', 'country_lower', 'country_original_lower',\n",
    "        'division_id', 'division', 'division_original', 'division_lower', 'division_original_lower',\n",
    "        'location_id', 'location', 'location_original', 'location_lower', 'location_original_lower',\n",
    "#         'submitting_lab', 'originating_lab',\n",
    "#         'authors', \n",
    "        'pangolin_lineage', 'pangolin_version',\n",
    "        'clade', \n",
    "#         'nextstrain_clade',\n",
    "#         'gisaid_epi_isl', 'genbank_accession',\n",
    "#         'purpose_of_sequencing',\n",
    "            ]\n",
    "\n",
    "muts_info = ['type', 'mutation', 'gene', \n",
    "             'ref_codon', 'pos', 'alt_codon', \n",
    "             'is_synonymous', \n",
    "             'ref_aa', 'codon_num', 'alt_aa', \n",
    "             'absolute_coords', \n",
    "             'change_length_nt', 'is_frameshift',\n",
    "             'deletion_codon_coords']"
   ]
  },
  {
   "cell_type": "code",
   "execution_count": 80,
   "metadata": {},
   "outputs": [],
   "source": [
    "# # TEST \n",
    "# start = time.time()\n",
    "# (test.groupby(meta_info, as_index=True)\n",
    "#              .apply(lambda x: x[muts_info].to_dict('records'))\n",
    "#              .reset_index()\n",
    "#              .rename(columns={0:'mutations'})\n",
    "#              .to_json(f'test_data/TEST_api_data_model_{date}.json', \n",
    "#                       orient='records',\n",
    "# #                       compression='gzip'\n",
    "#                      )\n",
    "# )\n",
    "# end = time.time()\n",
    "# print(f'Execution time: {end - start} seconds')"
   ]
  },
  {
   "cell_type": "code",
   "execution_count": 81,
   "metadata": {},
   "outputs": [],
   "source": [
    "# test||"
   ]
  },
  {
   "cell_type": "code",
   "execution_count": 82,
   "metadata": {},
   "outputs": [],
   "source": [
    "# muts.drop(columns=['nt_map_coords', 'aa_map_coords'], inplace=True)"
   ]
  },
  {
   "cell_type": "code",
   "execution_count": 83,
   "metadata": {},
   "outputs": [
    {
     "data": {
      "text/plain": [
       "'2021-02-21'"
      ]
     },
     "execution_count": 83,
     "metadata": {},
     "output_type": "execute_result"
    }
   ],
   "source": [
    "muts['date_submitted'].max()"
   ]
  },
  {
   "cell_type": "code",
   "execution_count": 84,
   "metadata": {},
   "outputs": [
    {
     "data": {
      "text/plain": [
       "29        2020-04-17\n",
       "30        2020-04-17\n",
       "31        2020-04-17\n",
       "32        2020-04-17\n",
       "33        2020-04-17\n",
       "             ...    \n",
       "342511    2021-02-21\n",
       "342512    2021-02-21\n",
       "342513    2021-02-21\n",
       "342514    2021-02-21\n",
       "342515    2021-02-21\n",
       "Name: date_submitted, Length: 10579337, dtype: object"
      ]
     },
     "execution_count": 84,
     "metadata": {},
     "output_type": "execute_result"
    }
   ],
   "source": [
    "muts['date_submitted']"
   ]
  },
  {
   "cell_type": "code",
   "execution_count": 85,
   "metadata": {},
   "outputs": [
    {
     "data": {
      "text/plain": [
       "29        2020-03-23\n",
       "30        2020-03-23\n",
       "31        2020-03-23\n",
       "32        2020-03-23\n",
       "33        2020-03-23\n",
       "             ...    \n",
       "342511    2021-02-11\n",
       "342512    2021-02-06\n",
       "342513    2021-02-06\n",
       "342514    2021-02-08\n",
       "342515    2020-02-18\n",
       "Name: date_collected, Length: 10579337, dtype: object"
      ]
     },
     "execution_count": 85,
     "metadata": {},
     "output_type": "execute_result"
    }
   ],
   "source": [
    "muts['date_collected']"
   ]
  },
  {
   "cell_type": "code",
   "execution_count": 86,
   "metadata": {},
   "outputs": [],
   "source": [
    "# muts['date_modified']"
   ]
  },
  {
   "cell_type": "code",
   "execution_count": 87,
   "metadata": {},
   "outputs": [
    {
     "data": {
      "text/plain": [
       "S:DEL69/70            97176\n",
       "ORF1a:DEL3675/3677    87996\n",
       "S:DEL144/144          86166\n",
       "ORF1a:DEL1/25         11126\n",
       "ORF8:DEL121            5014\n",
       "                      ...  \n",
       "ORF7a:DEL48/760           1\n",
       "ORF7a:DEL63/83            1\n",
       "ORF1a:DEL2777/2781        1\n",
       "S:DEL849                  1\n",
       "ORF7a:DEL75/80            1\n",
       "Name: mutation, Length: 4784, dtype: int64"
      ]
     },
     "execution_count": 87,
     "metadata": {},
     "output_type": "execute_result"
    }
   ],
   "source": [
    "muts[muts['type']=='deletion']['mutation'].value_counts()"
   ]
  },
  {
   "cell_type": "code",
   "execution_count": 88,
   "metadata": {},
   "outputs": [
    {
     "data": {
      "text/html": [
       "<div>\n",
       "<style scoped>\n",
       "    .dataframe tbody tr th:only-of-type {\n",
       "        vertical-align: middle;\n",
       "    }\n",
       "\n",
       "    .dataframe tbody tr th {\n",
       "        vertical-align: top;\n",
       "    }\n",
       "\n",
       "    .dataframe thead th {\n",
       "        text-align: right;\n",
       "    }\n",
       "</style>\n",
       "<table border=\"1\" class=\"dataframe\">\n",
       "  <thead>\n",
       "    <tr style=\"text-align: right;\">\n",
       "      <th></th>\n",
       "      <th>pos</th>\n",
       "      <th>change_length_nt</th>\n",
       "      <th>mutation</th>\n",
       "    </tr>\n",
       "  </thead>\n",
       "  <tbody>\n",
       "  </tbody>\n",
       "</table>\n",
       "</div>"
      ],
      "text/plain": [
       "Empty DataFrame\n",
       "Columns: [pos, change_length_nt, mutation]\n",
       "Index: []"
      ]
     },
     "execution_count": 88,
     "metadata": {},
     "output_type": "execute_result"
    }
   ],
   "source": [
    "muts.loc[(muts['type']=='deletion')&(muts['mutation']==1)][['pos', 'change_length_nt', 'mutation']]"
   ]
  },
  {
   "cell_type": "code",
   "execution_count": 89,
   "metadata": {},
   "outputs": [],
   "source": [
    "# muts.loc[muts['change_length_nt']=='None', 'change_length_nt'] = -1\n",
    "# muts['change_length_nt'] = muts['change_length_nt'].astype(int)"
   ]
  },
  {
   "cell_type": "code",
   "execution_count": 90,
   "metadata": {},
   "outputs": [],
   "source": [
    "cols = ['absolute_coords', 'change_length_nt']\n",
    "# muts[muts['change_length_nt']>=20000].sort_values('change_length_nt', ascending=False)[cols]"
   ]
  },
  {
   "cell_type": "code",
   "execution_count": 91,
   "metadata": {},
   "outputs": [],
   "source": [
    "# muts[muts['change_length_nt']>=5000].sort_values('change_length_nt', ascending=False)['gene'].value_counts()"
   ]
  },
  {
   "cell_type": "code",
   "execution_count": 92,
   "metadata": {},
   "outputs": [],
   "source": [
    "# muts[muts['change_length_nt']>=20000].sort_values('change_length_nt', ascending=False).shape"
   ]
  },
  {
   "cell_type": "code",
   "execution_count": 93,
   "metadata": {},
   "outputs": [],
   "source": [
    "cols = ['ref_codon', 'pos', 'alt_codon', 'ref_aa', 'codon_num', 'alt_aa']\n",
    "# muts[muts['mutation']=='S:N501N'][cols]"
   ]
  },
  {
   "cell_type": "code",
   "execution_count": 94,
   "metadata": {},
   "outputs": [
    {
     "data": {
      "text/plain": [
       "United Kingdom                      5148421\n",
       "United States                       1881231\n",
       "Denmark                              936762\n",
       "Switzerland                          263012\n",
       "Japan                                243281\n",
       "                                     ...   \n",
       "Saint Vincent and the Grenadines         11\n",
       "Cuba                                     11\n",
       "Uzbekistan                                7\n",
       "Andorra                                   4\n",
       "belgium                                   3\n",
       "Name: country, Length: 156, dtype: int64"
      ]
     },
     "execution_count": 94,
     "metadata": {},
     "output_type": "execute_result"
    }
   ],
   "source": [
    "muts['country'].value_counts()"
   ]
  },
  {
   "cell_type": "code",
   "execution_count": 95,
   "metadata": {},
   "outputs": [
    {
     "data": {
      "text/plain": [
       "united kingdom                      5148421\n",
       "united states                       1881231\n",
       "denmark                              936762\n",
       "switzerland                          263012\n",
       "japan                                243281\n",
       "                                     ...   \n",
       "saint-barthélemy                         12\n",
       "cuba                                     11\n",
       "saint vincent and the grenadines         11\n",
       "uzbekistan                                7\n",
       "andorra                                   4\n",
       "Name: country_lower, Length: 155, dtype: int64"
      ]
     },
     "execution_count": 95,
     "metadata": {},
     "output_type": "execute_result"
    }
   ],
   "source": [
    "muts['country_lower'].value_counts()"
   ]
  },
  {
   "cell_type": "code",
   "execution_count": null,
   "metadata": {},
   "outputs": [],
   "source": [
    "# GENERATE JSON DATA MODEL\n",
    "start = time.time()\n",
    "(muts.groupby(meta_info, as_index=True)\n",
    "             .apply(lambda x: x[muts_info].to_dict('records'))\n",
    "             .reset_index()\n",
    "             .rename(columns={0:'mutations'})\n",
    "             .to_json(f'/valhalla/gisaid/api_data.json.gz',\n",
    "                      orient='records',\n",
    "                      compression='gzip'))\n",
    "end = time.time()\n",
    "print(f'Execution time: {end - start} seconds')"
   ]
  },
  {
   "cell_type": "code",
   "execution_count": null,
   "metadata": {},
   "outputs": [],
   "source": []
  },
  {
   "cell_type": "code",
   "execution_count": 42,
   "metadata": {},
   "outputs": [],
   "source": [
    "muts.drop_duplicates(subset=['strain', 'mutation'], inplace=True)"
   ]
  },
  {
   "cell_type": "code",
   "execution_count": 65,
   "metadata": {},
   "outputs": [],
   "source": [
    "muts = muts[muts['gene']!='5UTR']"
   ]
  }
 ],
 "metadata": {
  "kernelspec": {
   "display_name": "bjorn2",
   "language": "python",
   "name": "bjorn2"
  },
  "language_info": {
   "codemirror_mode": {
    "name": "ipython",
    "version": 3
   },
   "file_extension": ".py",
   "mimetype": "text/x-python",
   "name": "python",
   "nbconvert_exporter": "python",
   "pygments_lexer": "ipython3",
   "version": "3.8.3"
  }
 },
 "nbformat": 4,
 "nbformat_minor": 5
}
