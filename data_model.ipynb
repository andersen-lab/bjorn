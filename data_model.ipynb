{
 "cells": [
  {
   "cell_type": "code",
   "execution_count": 1,
   "metadata": {},
   "outputs": [],
   "source": [
    "import sys\n",
    "import time\n",
    "import json\n",
    "import numpy as np\n",
    "import pandas as pd\n",
    "\n",
    "import bjorn_support as bs\n",
    "import onion_trees as ot\n",
    "import mutations as bm\n",
    "import visualize as bv\n",
    "import reports as br\n",
    "import data as bd"
   ]
  },
  {
   "cell_type": "code",
   "execution_count": 2,
   "metadata": {},
   "outputs": [],
   "source": [
    "import plotly\n",
    "import plotly.express as px\n",
    "import plotly.graph_objects as go\n",
    "from plotly.subplots import make_subplots"
   ]
  },
  {
   "cell_type": "code",
   "execution_count": 4,
   "metadata": {},
   "outputs": [],
   "source": [
    "date = '2021-01-26'\n",
    "countries_fp = '/home/al/data/geojsons/countries.geo.json'\n",
    "states_fp = '/home/al/data/geojsons/us-states.json'\n",
    "subs = pd.read_csv('/home/al/analysis/gisaid/subs_long_2021-01-25.csv.gz', \n",
    "                   compression='gzip')\n",
    "dels = pd.read_csv('/home/al/analysis/gisaid/dels_long_2021-01-25.csv.gz', \n",
    "                   compression='gzip')"
   ]
  },
  {
   "cell_type": "code",
   "execution_count": 5,
   "metadata": {},
   "outputs": [],
   "source": [
    "cols = ['mutation', 'strain', 'country', 'division', 'location', 'date', 'absolute_coords', 'del_len']"
   ]
  },
  {
   "cell_type": "code",
   "execution_count": 6,
   "metadata": {},
   "outputs": [],
   "source": [
    "dels['pos'] = dels['absolute_coords'].apply(lambda x: int(x.split(':')[0]))\n",
    "dels['ref_codon'] = dels['del_seq'].copy()"
   ]
  },
  {
   "cell_type": "code",
   "execution_count": 7,
   "metadata": {},
   "outputs": [
    {
     "name": "stdout",
     "output_type": "stream",
     "text": [
      "(6328749, 38)\n",
      "(117950, 44)\n",
      "(6446699, 47)\n"
     ]
    }
   ],
   "source": [
    "print(subs.shape)\n",
    "print(dels.shape)\n",
    "subs['type'] = 'substitution'\n",
    "muts = pd.concat([subs, dels])\n",
    "print(muts.shape)"
   ]
  },
  {
   "cell_type": "code",
   "execution_count": 8,
   "metadata": {},
   "outputs": [],
   "source": [
    "with open(countries_fp) as f:\n",
    "    countries = json.load(f)\n",
    "country_map = {x['properties']['name']: x['id'] for x in countries['features']}\n",
    "muts['country_id'] = muts['country'].apply(lambda x: country_map.get(x, 'NA'))\n",
    "with open(states_fp) as f:\n",
    "    states = json.load(f)\n",
    "state_map = {x['properties']['name']: x['id'] for x in states['features']}\n",
    "muts['division_id'] = muts['division'].apply(lambda x: state_map.get(x, 'NA'))"
   ]
  },
  {
   "cell_type": "code",
   "execution_count": 9,
   "metadata": {},
   "outputs": [],
   "source": [
    "muts.rename(columns={\n",
    "    'date': 'date_collected',\n",
    "    'GISAID_clade': 'gisaid_clade',\n",
    "    'Nextstrain_clade': 'nextstrain_clade',\n",
    "    'del_len': 'change_length_nt'\n",
    "    }, inplace=True)"
   ]
  },
  {
   "cell_type": "code",
   "execution_count": 10,
   "metadata": {},
   "outputs": [
    {
     "data": {
      "text/plain": [
       "Index(['idx', 'replacements', 'pos', 'gene', 'codon_num', 'ref_codon',\n",
       "       'alt_codon', 'ref_aa', 'alt_aa', 'mutation', 'strain', 'virus',\n",
       "       'gisaid_epi_isl', 'genbank_accession', 'date_collected', 'region',\n",
       "       'country', 'division', 'location', 'region_exposure',\n",
       "       'country_exposure', 'division_exposure', 'segment', 'length', 'host',\n",
       "       'age', 'sex', 'nextstrain_clade', 'pangolin_lineage', 'gisaid_clade',\n",
       "       'originating_lab', 'submitting_lab', 'authors', 'url', 'title',\n",
       "       'paper_url', 'date_submitted', 'purpose_of_sequencing', 'type',\n",
       "       'seq_len', 'del_positions', 'change_length_nt', 'relative_coords',\n",
       "       'absolute_coords', 'del_seq', 'prev_5nts', 'next_5nts', 'country_id',\n",
       "       'division_id'],\n",
       "      dtype='object')"
      ]
     },
     "execution_count": 10,
     "metadata": {},
     "output_type": "execute_result"
    }
   ],
   "source": [
    "muts.columns"
   ]
  },
  {
   "cell_type": "code",
   "execution_count": 11,
   "metadata": {},
   "outputs": [],
   "source": [
    "def compute_acc_nt_pos(x, gene2pos):\n",
    "    s = gene2pos.get(x['gene'], 0)\n",
    "    return s + x['pos']\n",
    "muts['nt_map_coords'] = muts[['gene', 'pos']].apply(compute_acc_nt_pos, \n",
    "                            args=(bd.GENE2NTCOORDS,), \n",
    "                            axis=1)"
   ]
  },
  {
   "cell_type": "code",
   "execution_count": 12,
   "metadata": {},
   "outputs": [],
   "source": [
    "def compute_acc_aa_pos(x, gene2pos):\n",
    "    s = gene2pos.get(x['gene'], 0)\n",
    "    return s + x['codon_num']\n",
    "muts['aa_map_coords'] = muts[['gene', 'codon_num']].apply(compute_acc_aa_pos, \n",
    "                            args=(bd.GENE2AACOORDS,), \n",
    "                            axis=1)"
   ]
  },
  {
   "cell_type": "code",
   "execution_count": 13,
   "metadata": {},
   "outputs": [],
   "source": [
    "muts['date_modified'] = date"
   ]
  },
  {
   "cell_type": "code",
   "execution_count": 14,
   "metadata": {},
   "outputs": [
    {
     "data": {
      "text/plain": [
       "Index(['idx', 'replacements', 'pos', 'gene', 'codon_num', 'ref_codon',\n",
       "       'alt_codon', 'ref_aa', 'alt_aa', 'mutation', 'strain', 'virus',\n",
       "       'gisaid_epi_isl', 'genbank_accession', 'date_collected', 'region',\n",
       "       'country', 'division', 'location', 'region_exposure',\n",
       "       'country_exposure', 'division_exposure', 'segment', 'length', 'host',\n",
       "       'age', 'sex', 'nextstrain_clade', 'pangolin_lineage', 'gisaid_clade',\n",
       "       'originating_lab', 'submitting_lab', 'authors', 'url', 'title',\n",
       "       'paper_url', 'date_submitted', 'purpose_of_sequencing', 'type',\n",
       "       'seq_len', 'del_positions', 'change_length_nt', 'relative_coords',\n",
       "       'absolute_coords', 'del_seq', 'prev_5nts', 'next_5nts', 'country_id',\n",
       "       'division_id', 'nt_map_coords', 'aa_map_coords', 'date_modified'],\n",
       "      dtype='object')"
      ]
     },
     "execution_count": 14,
     "metadata": {},
     "output_type": "execute_result"
    }
   ],
   "source": [
    "muts.columns"
   ]
  },
  {
   "cell_type": "code",
   "execution_count": 15,
   "metadata": {},
   "outputs": [],
   "source": [
    "muts['is_synonymous'] = False\n",
    "muts.loc[muts['ref_aa']==muts['alt_aa'], 'is_synonymous'] = True"
   ]
  },
  {
   "cell_type": "code",
   "execution_count": 16,
   "metadata": {},
   "outputs": [],
   "source": [
    "meta_info = ['strain', 'date_modified',\n",
    "        'date_collected','date_submitted',\n",
    "        'country_id', 'country', \n",
    "        'division_id', 'division', 'location', \n",
    "        'submitting_lab', 'originating_lab',\n",
    "        'authors', 'pangolin_lineage', \n",
    "        'gisaid_clade', 'nextstrain_clade',\n",
    "        'gisaid_epi_isl', 'genbank_accession',\n",
    "        'purpose_of_sequencing']\n",
    "\n",
    "muts_info = ['type', 'mutation', 'gene', \n",
    "             'ref_codon', 'pos', 'alt_codon', \n",
    "             'is_synonymous', \n",
    "             'ref_aa', 'codon_num', 'alt_aa', \n",
    "             'absolute_coords', \n",
    "             'change_length_nt', \n",
    "             'nt_map_coords', 'aa_map_coords']"
   ]
  },
  {
   "cell_type": "code",
   "execution_count": 17,
   "metadata": {},
   "outputs": [],
   "source": [
    "muts.loc[muts['location']=='unk', 'location'] = 'NA'\n",
    "muts.loc[muts['purpose_of_sequencing']=='?', 'purpose_of_sequencing'] = 'NA'\n",
    "muts.loc[muts['genbank_accession']=='?', 'genbank_accession'] = 'NA'"
   ]
  },
  {
   "cell_type": "code",
   "execution_count": 18,
   "metadata": {},
   "outputs": [],
   "source": [
    "muts.fillna('NA', inplace=True)"
   ]
  },
  {
   "cell_type": "code",
   "execution_count": 19,
   "metadata": {},
   "outputs": [],
   "source": [
    "sample_ids = muts[['strain']].drop_duplicates().sample(10)['strain'].unique()\n",
    "test = muts[muts['strain'].isin(sample_ids)]"
   ]
  },
  {
   "cell_type": "code",
   "execution_count": 20,
   "metadata": {},
   "outputs": [],
   "source": [
    "# test['genbank_accession']"
   ]
  },
  {
   "cell_type": "code",
   "execution_count": 21,
   "metadata": {},
   "outputs": [],
   "source": [
    "# test"
   ]
  },
  {
   "cell_type": "code",
   "execution_count": 23,
   "metadata": {},
   "outputs": [
    {
     "name": "stdout",
     "output_type": "stream",
     "text": [
      "Execution time: 674.5737869739532 seconds\n"
     ]
    }
   ],
   "source": [
    "start = time.time()\n",
    "(muts.groupby(meta_info, as_index=True)\n",
    "             .apply(lambda x: x[muts_info].to_dict('records'))\n",
    "             .reset_index()\n",
    "             .rename(columns={0:'mutations'})\n",
    "             .to_json('test_data/data_model_2021-01-26.json.gz', \n",
    "                      orient='records',\n",
    "                      compression='gzip'))\n",
    "end = time.time()\n",
    "print(f'Execution time: {end - start} seconds')"
   ]
  },
  {
   "cell_type": "code",
   "execution_count": null,
   "metadata": {},
   "outputs": [],
   "source": [
    "# (dels.groupby(['mutation', 'absolute_coords', 'del_len', 'del_seq'])\n",
    "#      .agg(num_samples=('idx', 'nunique'))\n",
    "#      .reset_index()\n",
    "#      .nlargest(50, 'num_samples'))"
   ]
  }
 ],
 "metadata": {
  "kernelspec": {
   "display_name": "Python 3",
   "language": "python",
   "name": "python3"
  },
  "language_info": {
   "codemirror_mode": {
    "name": "ipython",
    "version": 3
   },
   "file_extension": ".py",
   "mimetype": "text/x-python",
   "name": "python",
   "nbconvert_exporter": "python",
   "pygments_lexer": "ipython3",
   "version": "3.8.3"
  }
 },
 "nbformat": 4,
 "nbformat_minor": 5
}
